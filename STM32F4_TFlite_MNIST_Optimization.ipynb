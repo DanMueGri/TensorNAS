{
 "cells": [
  {
   "cell_type": "markdown",
   "metadata": {
    "colab_type": "text",
    "id": "d_q-FH0dgMQq"
   },
   "source": [
    "This example will perform character recognition through user input into the touch screen of an STM3240G-Evaluation board using the MNIST dataset."
   ]
  },
  {
   "cell_type": "code",
   "execution_count": 1,
   "metadata": {
    "colab": {
     "base_uri": "https://localhost:8080/",
     "height": 493
    },
    "colab_type": "code",
    "id": "RcNx6RbVg3cc",
    "outputId": "4c3f031c-7caa-4ff6-f510-993350710657"
   },
   "outputs": [
    {
     "name": "stdout",
     "output_type": "stream",
     "text": [
      "\u001b[33mDEPRECATION: Python 2.7 will reach the end of its life on January 1st, 2020. Please upgrade your Python as Python 2.7 won't be maintained after that date. A future version of pip will drop support for Python 2.7. More details about Python 2 support in pip, can be found at https://pip.pypa.io/en/latest/development/release-process/#python-2-support\u001b[0m\n",
      "\u001b[33mWARNING: Skipping tensorflow as it is not installed.\u001b[0m\n"
     ]
    }
   ],
   "source": [
    "#%tensorflow_version 2.x\n",
    "#!apt-get install -y xxd\n",
    "\n",
    "! pip uninstall -y tensorflow\n",
    "#! pip install -q tf-nightly\n",
    "#! pip install -q tensorflow-model-optimization\n",
    "\n",
    "import tensorflow as tf\n",
    "from tensorflow import keras\n",
    "\n",
    "(images_train, labels_train), (images_test, labels_test) = tf.keras.datasets.mnist.load_data()"
   ]
  },
  {
   "cell_type": "markdown",
   "metadata": {
    "colab_type": "text",
    "id": "4Y2hcinVg4Ws"
   },
   "source": [
    "Importing Tensorflow allows you to use its API to load the MNIST dataset. It should be noted that we need to use TF version <1.14 as this version includes the fully connected operation version 3 which is incompatible with the micro interpreters version 2."
   ]
  },
  {
   "cell_type": "code",
   "execution_count": 2,
   "metadata": {
    "colab": {
     "base_uri": "https://localhost:8080/",
     "height": 299
    },
    "colab_type": "code",
    "id": "MnCKuVlVjRhX",
    "outputId": "1cd33f65-9471-44af-a1e1-cee349f2ec53"
   },
   "outputs": [
    {
     "name": "stdout",
     "output_type": "stream",
     "text": [
      "3\n"
     ]
    },
    {
     "data": {
      "text/plain": [
       "<matplotlib.image.AxesImage at 0x13b572e90>"
      ]
     },
     "execution_count": 2,
     "metadata": {},
     "output_type": "execute_result"
    }
   ],
   "source": [
    "import matplotlib.pyplot as plt\n",
    "test_index = 12345\n",
    "print(labels_train[test_index])\n",
    "plt.imshow(images_train[test_index], cmap='Greys')"
   ]
  },
  {
   "cell_type": "markdown",
   "metadata": {
    "colab_type": "text",
    "id": "-76bBO2rlABd"
   },
   "source": [
    "The input of the neural network needs to know the input shape that it is going to be fed"
   ]
  },
  {
   "cell_type": "code",
   "execution_count": 3,
   "metadata": {
    "colab": {
     "base_uri": "https://localhost:8080/",
     "height": 34
    },
    "colab_type": "code",
    "id": "gWwrc29FlEgQ",
    "outputId": "0bf384fb-930b-40d3-b68e-2facb062f98e"
   },
   "outputs": [
    {
     "name": "stdout",
     "output_type": "stream",
     "text": [
      "60000 images, each with shape of 28 pixels x 28 pixels\n"
     ]
    }
   ],
   "source": [
    "input_shape = images_train.shape\n",
    "print(\"{} images, each with shape of {} pixels x {} pixels\".format(input_shape[0], input_shape[1], input_shape[2]))"
   ]
  },
  {
   "cell_type": "markdown",
   "metadata": {
    "colab_type": "text",
    "id": "zn-3cvuymAWT"
   },
   "source": [
    "The input shape for the model must be reshaped to 4D as the current shape does not show that each pixel is a 1D array where only the greyscale value (0-255) is stored. The input tensor's shape will be 3D as it will take a single-channel image. "
   ]
  },
  {
   "cell_type": "code",
   "execution_count": 4,
   "metadata": {
    "colab": {
     "base_uri": "https://localhost:8080/",
     "height": 34
    },
    "colab_type": "code",
    "id": "qOZnWmzUmTuI",
    "outputId": "2baeb4d0-d2ad-4507-9e73-1b0b4c6b783a"
   },
   "outputs": [
    {
     "name": "stdout",
     "output_type": "stream",
     "text": [
      "Input shape: (60000, 28, 28)\n"
     ]
    }
   ],
   "source": [
    "images_train = images_train.reshape(images_train.shape[0], images_train.shape[1], images_train.shape[2], 1)\n",
    "images_test = images_test.reshape(images_test.shape[0], images_test.shape[1], images_test.shape[2], 1)\n",
    "input_tensor_shape = (images_test.shape[1], images_test.shape[2], 1)\n",
    "print(\"Input shape: {}\".format(input_shape))"
   ]
  },
  {
   "cell_type": "markdown",
   "metadata": {
    "colab_type": "text",
    "id": "mjPMYztkm0tg"
   },
   "source": [
    "The greyscale values stores in the images' pixels are 8 bit values and need to be normalized into floats between 0-1."
   ]
  },
  {
   "cell_type": "code",
   "execution_count": 5,
   "metadata": {
    "colab": {},
    "colab_type": "code",
    "id": "adD13BYinHlG"
   },
   "outputs": [],
   "source": [
    "images_train = images_train.astype('float32')\n",
    "images_test = images_test.astype('float32')\n",
    "images_train /= 255\n",
    "images_test /= 255"
   ]
  },
  {
   "cell_type": "code",
   "execution_count": 35,
   "metadata": {},
   "outputs": [],
   "source": [
    "#Counter initialization for iteration count\n",
    "count=0"
   ]
  },
  {
   "cell_type": "markdown",
   "metadata": {},
   "source": [
    "Random Number Generator for generating random combination of input parameters "
   ]
  },
  {
   "cell_type": "code",
   "execution_count": 1,
   "metadata": {},
   "outputs": [
    {
     "ename": "NameError",
     "evalue": "name 'count' is not defined",
     "output_type": "error",
     "traceback": [
      "\u001b[0;31m---------------------------------------------------------------------------\u001b[0m",
      "\u001b[0;31mNameError\u001b[0m                                 Traceback (most recent call last)",
      "\u001b[0;32m<ipython-input-1-1fe41cbff40b>\u001b[0m in \u001b[0;36m<module>\u001b[0;34m\u001b[0m\n\u001b[1;32m      4\u001b[0m \u001b[0;34m\u001b[0m\u001b[0m\n\u001b[1;32m      5\u001b[0m     'layer1': {\n\u001b[0;32m----> 6\u001b[0;31m     \u001b[0;34m'Iteration'\u001b[0m\u001b[0;34m:\u001b[0m\u001b[0mstr\u001b[0m\u001b[0;34m(\u001b[0m\u001b[0mcount\u001b[0m\u001b[0;34m)\u001b[0m\u001b[0;34m,\u001b[0m\u001b[0;34m\u001b[0m\u001b[0;34m\u001b[0m\u001b[0m\n\u001b[0m\u001b[1;32m      7\u001b[0m     \u001b[0;34m'layer1_name'\u001b[0m\u001b[0;34m:\u001b[0m \u001b[0;34m'Conv2D'\u001b[0m\u001b[0;34m,\u001b[0m\u001b[0;34m\u001b[0m\u001b[0;34m\u001b[0m\u001b[0m\n\u001b[1;32m      8\u001b[0m     \u001b[0;34m'param1'\u001b[0m\u001b[0;34m:\u001b[0m  \u001b[0mstr\u001b[0m\u001b[0;34m(\u001b[0m\u001b[0mrandom\u001b[0m\u001b[0;34m.\u001b[0m\u001b[0mchoice\u001b[0m\u001b[0;34m(\u001b[0m\u001b[0mrange\u001b[0m\u001b[0;34m(\u001b[0m\u001b[0;36m2\u001b[0m\u001b[0;34m,\u001b[0m \u001b[0;36m50\u001b[0m\u001b[0;34m,\u001b[0m \u001b[0;36m2\u001b[0m\u001b[0;34m)\u001b[0m\u001b[0;34m)\u001b[0m\u001b[0;34m)\u001b[0m\u001b[0;34m,\u001b[0m\u001b[0;34m\u001b[0m\u001b[0;34m\u001b[0m\u001b[0m\n",
      "\u001b[0;31mNameError\u001b[0m: name 'count' is not defined"
     ]
    }
   ],
   "source": [
    "#Random Number generator \n",
    "import random\n",
    "Model_Configuration= {\n",
    "        \n",
    "    'layer1': {\n",
    "    'Iteration':str(count),\n",
    "    'layer1_name': 'Conv2D',\n",
    "    'param1':  str(random.choice(range(2, 50, 2))),\n",
    "    'param2':  str(random.choice(range(1, 6, 3))),\n",
    "    'param3': '3',\n",
    "    }, \n",
    "    'layer2': {\n",
    "    'Iteration':str(count),\n",
    "    'layer2_name': 'Maxpool',\n",
    "    'param1':  str(random.choice(range(2, 10, 2))),\n",
    "    'param2':  str(random.choice(range(2, 10, 2))),\n",
    "    }\n",
    "    }\n"
   ]
  },
  {
   "cell_type": "markdown",
   "metadata": {},
   "source": []
  },
  {
   "cell_type": "code",
   "execution_count": 84,
   "metadata": {},
   "outputs": [],
   "source": [
    "#JSON Module_Configurator being populated without Appending\n",
    "# data = json.dumps(Model_Configuration)\n",
    "# with open(\"/Users/priyadalal/Desktop/Append_Configuration.json\",\"w\") as f:\n",
    "#     f.write(data)\n",
    "    "
   ]
  },
  {
   "cell_type": "markdown",
   "metadata": {},
   "source": [
    "Input configuration JSON file is used to store list of different combination of Input parameters."
   ]
  },
  {
   "cell_type": "code",
   "execution_count": 85,
   "metadata": {},
   "outputs": [],
   "source": [
    "#Appending procedure JSON\n",
    "import os\n",
    "import random\n",
    "\n",
    "def append_json():\n",
    "    a = []\n",
    "    if not os.path.isfile(\"/Users/priyadalal/Desktop/InputParamComb.json\"):\n",
    "        a.append(Model_Configuration)\n",
    "        with open(\"/Users/priyadalal/Desktop/InputParamComb.json\", mode='w') as f:\n",
    "            f.write(json.dumps(a, indent=2))\n",
    "    else:\n",
    "        with open(\"/Users/priyadalal/Desktop/InputParamComb.json\") as feedsjson:\n",
    "            feeds = json.load(feedsjson)\n",
    "\n",
    "        feeds.append(Model_Configuration)\n",
    "        with open(\"/Users/priyadalal/Desktop/InputParamComb.json\", mode='w') as f:\n",
    "            f.write(json.dumps(feeds, indent=2))\n",
    "                \n",
    "\n"
   ]
  },
  {
   "cell_type": "markdown",
   "metadata": {},
   "source": [
    "Loading the parameters from JSON file as input to our Model."
   ]
  },
  {
   "cell_type": "code",
   "execution_count": 86,
   "metadata": {},
   "outputs": [
    {
     "name": "stdout",
     "output_type": "stream",
     "text": [
      "4\n",
      "Conv2D\n",
      "30\n",
      "1\n",
      "3\n"
     ]
    }
   ],
   "source": [
    "# # get model configuration params from our json file which is being appended\n",
    "import json \n",
    "\n",
    "append_json()\n",
    "\n",
    "print(count)\n",
    "with open(\"/Users/priyadalal/Desktop/InputParamComb.json\") as example_data:\n",
    "    data = json.load(example_data)\n",
    "print(data[count]['layer1']['layer1_name'])\n",
    "print(data[count]['layer1']['param1'])\n",
    "print(data[count]['layer1']['param2'])\n",
    "print(data[count]['layer1']['param3'])"
   ]
  },
  {
   "cell_type": "code",
   "execution_count": 87,
   "metadata": {
    "colab": {
     "base_uri": "https://localhost:8080/",
     "height": 232
    },
    "colab_type": "code",
    "id": "jdxlMTZvbaU8",
    "outputId": "eaf99ab8-ce6a-4e40-e3ac-5b341c50f9e1"
   },
   "outputs": [],
   "source": [
    "# get model configuration params from our json file\n",
    "# import json \n",
    "# with open('Model_Configuration.json') as example_data:\n",
    "#     data = json.load(example_data)\n",
    "# print(data['layer1']['layer1_name'])\n",
    "# int(data['layer1']['param1'])\n"
   ]
  },
  {
   "cell_type": "markdown",
   "metadata": {
    "colab_type": "text",
    "id": "A3oXnIHunXvs"
   },
   "source": [
    "Now the convolutional NN that we will use to classify the input images taken from the touch screen will have the following layer structure\n",
    "\n",
    "1. Conv2D\n",
    "2. MaxPooling2D\n",
    "3. Flatten\n",
    "4. Dense\n",
    "5. Dropout\n",
    "11. Dense\n",
    "\n"
   ]
  },
  {
   "cell_type": "code",
   "execution_count": 88,
   "metadata": {
    "colab": {},
    "colab_type": "code",
    "id": "k-2aWbOirRCy"
   },
   "outputs": [],
   "source": [
    "#layer types and shapes changed in each model\n",
    "\n",
    "#import tensorflow_model_optimization as tfmot\n",
    "\n",
    "#quantize_model = tfmot.quantization.keras.quantize_model\n",
    "model = keras.Sequential()\n",
    "\n",
    "if (data[count]['layer1']['layer1_name']=='Conv2D'):\n",
    "    model.add(keras.layers.Conv2D(int(data[count]['layer1']['param1']), kernel_size=(int(data[count]['layer1']['param2']),int(data[count]['layer1']['param3'])), input_shape=input_tensor_shape))\n",
    "if (data[count]['layer2']['layer2_name']=='Maxpool'):\n",
    "    model.add(keras.layers.MaxPooling2D(pool_size=(int(data[count]['layer2']['param1']),int(data[count]['layer2']['param2']))))         \n",
    "model.add(keras.layers.Flatten()) # Flattening the 2D arrays for fully connected layers\n",
    "model.add(keras.layers.Dense(128, activation=tf.nn.relu))\n",
    "model.add(keras.layers.Dropout(0.2))\n",
    "model.add(keras.layers.Dense(10,activation=tf.nn.softmax))\n",
    "\n",
    "\n",
    "#quantized_model5 = quantize_model(model5)"
   ]
  },
  {
   "cell_type": "markdown",
   "metadata": {
    "colab_type": "text",
    "id": "N5CLXe63rRPf"
   },
   "source": [
    "The Conv2D layer extracts features from the input image using filters that slide across the input image. In this case we will use 28 different filters to extract a large number of unique features that will then be used to classify each image in the later layers. Thus the output of this layer will have the shape (28, 28, 1, 28)\n",
    "\n",
    "MaxPooling2D is used to reduce the output size of the convolutional layer by reducing each 2 x 2 unique chunk of the output down in to a singular value, this reducing the output's size by a factor of 4. This will reduce our (28, 28, 1, 28) tensor down to a (7, 7, 1, 28) tensor.\n",
    "\n",
    "The Flatten layer then takes this 2D array (our image) and shapes it into a single dimension (1372).\n",
    "\n",
    "The following Dense layer reduces the input 1372 values down into 128 classes, taking the first steps in classifying the image into on of the 10 output classes (0-9). This is done using the relu activation function.\n",
    "\n",
    "The Dropout layer sets 20% of the tensor's values to 0 so as to reduce overfitting.\n",
    "\n",
    "Finally the last Dense layer reduces the output value down to the 10 classes, each representing a digit between 0 and 9. This is done using the softmax activation function which makes the outputs a set of probabilities summing to 1.\n"
   ]
  },
  {
   "cell_type": "markdown",
   "metadata": {
    "colab_type": "text",
    "id": "NrG75fkHxdkN"
   },
   "source": [
    "Train the model"
   ]
  },
  {
   "cell_type": "code",
   "execution_count": 89,
   "metadata": {
    "colab": {
     "base_uri": "https://localhost:8080/",
     "height": 1000
    },
    "colab_type": "code",
    "id": "RXWfgL0LxS3o",
    "outputId": "37c7131a-17f8-49fa-9164-592d70a796f6"
   },
   "outputs": [
    {
     "name": "stdout",
     "output_type": "stream",
     "text": [
      "Model 1\n",
      "Train on 60000 samples\n",
      "Epoch 1/10\n",
      "60000/60000 [==============================] - 13s 221us/sample - loss: 0.6484 - accuracy: 0.7967\n",
      "Epoch 2/10\n",
      "60000/60000 [==============================] - 12s 202us/sample - loss: 0.3300 - accuracy: 0.8961\n",
      "Epoch 3/10\n",
      "60000/60000 [==============================] - 13s 221us/sample - loss: 0.2734 - accuracy: 0.9125\n",
      "Epoch 4/10\n",
      "60000/60000 [==============================] - 11s 184us/sample - loss: 0.2416 - accuracy: 0.9228\n",
      "Epoch 5/10\n",
      "60000/60000 [==============================] - 13s 209us/sample - loss: 0.2213 - accuracy: 0.9285\n",
      "Epoch 6/10\n",
      "60000/60000 [==============================] - 12s 198us/sample - loss: 0.2084 - accuracy: 0.9334\n",
      "Epoch 7/10\n",
      "60000/60000 [==============================] - 17s 283us/sample - loss: 0.1978 - accuracy: 0.9365\n",
      "Epoch 8/10\n",
      "60000/60000 [==============================] - 13s 220us/sample - loss: 0.1860 - accuracy: 0.9404\n",
      "Epoch 9/10\n",
      "60000/60000 [==============================] - 10s 169us/sample - loss: 0.1795 - accuracy: 0.9420\n",
      "Epoch 10/10\n",
      "60000/60000 [==============================] - 14s 226us/sample - loss: 0.1704 - accuracy: 0.9448- loss: 0.170\n",
      "Model: \"sequential_7\"\n",
      "_________________________________________________________________\n",
      "Layer (type)                 Output Shape              Param #   \n",
      "=================================================================\n",
      "conv2d_7 (Conv2D)            (None, 28, 26, 30)        120       \n",
      "_________________________________________________________________\n",
      "max_pooling2d_7 (MaxPooling2 (None, 7, 3, 30)          0         \n",
      "_________________________________________________________________\n",
      "flatten_7 (Flatten)          (None, 630)               0         \n",
      "_________________________________________________________________\n",
      "dense_14 (Dense)             (None, 128)               80768     \n",
      "_________________________________________________________________\n",
      "dropout_7 (Dropout)          (None, 128)               0         \n",
      "_________________________________________________________________\n",
      "dense_15 (Dense)             (None, 10)                1290      \n",
      "=================================================================\n",
      "Total params: 82,178\n",
      "Trainable params: 82,178\n",
      "Non-trainable params: 0\n",
      "_________________________________________________________________\n"
     ]
    }
   ],
   "source": [
    "model.compile(optimizer='adam', loss='sparse_categorical_crossentropy', metrics=['accuracy'])\n",
    "\n",
    "#quantized_model5.compile(optimizer='adam',\n",
    "              #loss='sparse_categorical_crossentropy',\n",
    "              #metrics=['accuracy'])\n",
    "\n",
    "batch_size = 100\n",
    "epochs = 10\n",
    "\n",
    "print(\"Model 1\")\n",
    "history = model.fit(x=images_train,y=labels_train, epochs=epochs, batch_size=batch_size)\n",
    "model.summary()\n",
    "\n",
    "\n"
   ]
  },
  {
   "cell_type": "markdown",
   "metadata": {
    "colab_type": "text",
    "id": "fNtcEcKuxgYb"
   },
   "source": [
    "Now we can evaluate our trained model using the test data"
   ]
  },
  {
   "cell_type": "code",
   "execution_count": 90,
   "metadata": {
    "colab": {
     "base_uri": "https://localhost:8080/",
     "height": 225
    },
    "colab_type": "code",
    "id": "D4zrA9hNxkAC",
    "outputId": "a609f283-74a6-4406-d845-81212d411b1d"
   },
   "outputs": [
    {
     "name": "stdout",
     "output_type": "stream",
     "text": [
      "10000/10000 [==============================] - 2s 181us/sample - loss: 0.1557 - accuracy: 0.9475\n",
      "Model1 has an accuracy of 94.75%\n"
     ]
    }
   ],
   "source": [
    "res = model.evaluate(images_test, labels_test)\n",
    "print(\"Model1 has an accuracy of {0:.2f}%\".format(res[1] * 100))\n",
    "\n",
    "# Adding the results to JSON file\n",
    "stringlist = []\n",
    "li =[]\n",
    "model.summary(print_fn=lambda x: stringlist.append(x))\n",
    "for st in stringlist:\n",
    "    li.append(st)\n",
    "    \n",
    "result={\n",
    "    'Iteration': str(count),\n",
    "    'Accuracy is:' : str(res[1] * 100),\n",
    "     '':str(li[16])\n",
    "    \n",
    "}\n",
    "# with open(\"Objectives.json\", \"w\") as jsonFile:\n",
    "#     json.dump(result, jsonFile)\n",
    "\n"
   ]
  },
  {
   "cell_type": "markdown",
   "metadata": {},
   "source": [
    "Writing our final results back to our JSON file"
   ]
  },
  {
   "cell_type": "code",
   "execution_count": 91,
   "metadata": {},
   "outputs": [],
   "source": [
    "#Appending procedure JSON\n",
    "import os\n",
    "a = []\n",
    "if not os.path.isfile(\"/Users/priyadalal/Desktop/OutputObjective.json\"):\n",
    "    a.append(result)\n",
    "    with open(\"/Users/priyadalal/Desktop/OutputObjective.json\", mode='w') as f:\n",
    "        f.write(json.dumps(a, indent=2))\n",
    "else:\n",
    "    with open(\"/Users/priyadalal/Desktop/OutputObjective.json\") as feedsjson:\n",
    "        feeds = json.load(feedsjson)\n",
    "\n",
    "    feeds.append(result)\n",
    "    with open(\"/Users/priyadalal/Desktop/OutputObjective.json\", mode='w') as f:\n",
    "        f.write(json.dumps(feeds, indent=2))"
   ]
  },
  {
   "cell_type": "code",
   "execution_count": 92,
   "metadata": {},
   "outputs": [],
   "source": [
    "#Updating our counter on completing the Iteration \n",
    "count=count+1"
   ]
  }
 ],
 "metadata": {
  "accelerator": "GPU",
  "colab": {
   "collapsed_sections": [],
   "name": "Copy of STM32F4 TFlite MNIST example",
   "provenance": []
  },
  "kernelspec": {
   "display_name": "Python 3",
   "language": "python",
   "name": "python3"
  },
  "language_info": {
   "codemirror_mode": {
    "name": "ipython",
    "version": 3
   },
   "file_extension": ".py",
   "mimetype": "text/x-python",
   "name": "python",
   "nbconvert_exporter": "python",
   "pygments_lexer": "ipython3",
   "version": "3.7.5"
  }
 },
 "nbformat": 4,
 "nbformat_minor": 1
}
