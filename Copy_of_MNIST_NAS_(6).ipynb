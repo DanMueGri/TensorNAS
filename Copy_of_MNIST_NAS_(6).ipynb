{
 "cells": [
  {
   "cell_type": "markdown",
   "metadata": {
    "colab_type": "text",
    "id": "d_q-FH0dgMQq"
   },
   "source": [
    "This example will perform character recognition through user input into the touch screen of an STM3240G-Evaluation board using the MNIST dataset."
   ]
  },
  {
   "cell_type": "code",
   "execution_count": 1,
   "metadata": {
    "colab": {
     "base_uri": "https://localhost:8080/",
     "height": 156
    },
    "colab_type": "code",
    "id": "RcNx6RbVg3cc",
    "outputId": "4c8bfa73-a4f7-4d56-d0aa-da200f6f0478"
   },
   "outputs": [
    {
     "name": "stdout",
     "output_type": "stream",
     "text": [
      "Collecting deap\n",
      "\u001b[?25l  Downloading https://files.pythonhosted.org/packages/0a/eb/2bd0a32e3ce757fb26264765abbaedd6d4d3640d90219a513aeabd08ee2b/deap-1.3.1-cp36-cp36m-manylinux2010_x86_64.whl (157kB)\n",
      "\r",
      "\u001b[K     |██                              | 10kB 14.1MB/s eta 0:00:01\r",
      "\u001b[K     |████▏                           | 20kB 2.1MB/s eta 0:00:01\r",
      "\u001b[K     |██████▎                         | 30kB 2.7MB/s eta 0:00:01\r",
      "\u001b[K     |████████▍                       | 40kB 3.1MB/s eta 0:00:01\r",
      "\u001b[K     |██████████▍                     | 51kB 2.4MB/s eta 0:00:01\r",
      "\u001b[K     |████████████▌                   | 61kB 2.7MB/s eta 0:00:01\r",
      "\u001b[K     |██████████████▋                 | 71kB 2.6MB/s eta 0:00:01\r",
      "\u001b[K     |████████████████▊               | 81kB 2.9MB/s eta 0:00:01\r",
      "\u001b[K     |██████████████████▊             | 92kB 3.3MB/s eta 0:00:01\r",
      "\u001b[K     |████████████████████▉           | 102kB 3.4MB/s eta 0:00:01\r",
      "\u001b[K     |███████████████████████         | 112kB 3.4MB/s eta 0:00:01\r",
      "\u001b[K     |█████████████████████████       | 122kB 3.4MB/s eta 0:00:01\r",
      "\u001b[K     |███████████████████████████▏    | 133kB 3.4MB/s eta 0:00:01\r",
      "\u001b[K     |█████████████████████████████▏  | 143kB 3.4MB/s eta 0:00:01\r",
      "\u001b[K     |███████████████████████████████▎| 153kB 3.4MB/s eta 0:00:01\r",
      "\u001b[K     |████████████████████████████████| 163kB 3.4MB/s \n",
      "\u001b[?25hRequirement already satisfied: numpy in /usr/local/lib/python3.6/dist-packages (from deap) (1.18.5)\n",
      "Installing collected packages: deap\n",
      "Successfully installed deap-1.3.1\n",
      "Requirement already satisfied: numpy in /usr/local/lib/python3.6/dist-packages (1.18.5)\n"
     ]
    }
   ],
   "source": [
    "#%tensorflow_version 2.x\n",
    "#!apt-get install -y xxd\n",
    "!pip install deap\n",
    "#! pip uninstall -y tensorflow\n",
    "#! pip install -q tf-nightly\n",
    "#! pip install -q tensorflow-model-optimization\n",
    "!pip install numpy\n"
   ]
  },
  {
   "cell_type": "markdown",
   "metadata": {
    "colab_type": "text",
    "id": "4Y2hcinVg4Ws"
   },
   "source": [
    "Importing Tensorflow allows you to use its API to load the MNIST dataset. It should be noted that we need to use TF version <1.14 as this version includes the fully connected operation version 3 which is incompatible with the micro interpreters version 2."
   ]
  },
  {
   "cell_type": "code",
   "execution_count": 2,
   "metadata": {
    "colab": {
     "base_uri": "https://localhost:8080/",
     "height": 51
    },
    "colab_type": "code",
    "id": "j4HCMa4LwqK8",
    "outputId": "80beab29-e6b1-48c1-b197-7bdaf16fbe8c"
   },
   "outputs": [
    {
     "name": "stdout",
     "output_type": "stream",
     "text": [
      "Downloading data from https://storage.googleapis.com/tensorflow/tf-keras-datasets/mnist.npz\n",
      "11493376/11490434 [==============================] - 0s 0us/step\n"
     ]
    }
   ],
   "source": [
    "import random\n",
    "\n",
    "from deap import base\n",
    "from deap import creator\n",
    "from deap import tools\n",
    "c\n",
    "\n",
    "(images_train, labels_train), (images_test, labels_test) = tf.keras.datasets.mnist.load_data()"
   ]
  },
  {
   "cell_type": "code",
   "execution_count": 3,
   "metadata": {
    "colab": {
     "base_uri": "https://localhost:8080/",
     "height": 299
    },
    "colab_type": "code",
    "id": "MnCKuVlVjRhX",
    "outputId": "d213e56b-5255-4b9e-b25c-e1c369db45b8"
   },
   "outputs": [
    {
     "name": "stdout",
     "output_type": "stream",
     "text": [
      "3\n"
     ]
    },
    {
     "data": {
      "text/plain": [
       "<matplotlib.image.AxesImage at 0x7fa17f40dc18>"
      ]
     },
     "execution_count": 3,
     "metadata": {
      "tags": []
     },
     "output_type": "execute_result"
    },
    {
     "data": {
      "image/png": "[encoded data removed]",
      "text/plain": [
       "<Figure size 432x288 with 1 Axes>"
      ]
     },
     "metadata": {
      "needs_background": "light",
      "tags": []
     },
     "output_type": "display_data"
    }
   ],
   "source": [
    "import matplotlib.pyplot as plt\n",
    "test_index = 12345\n",
    "print(labels_train[test_index])\n",
    "plt.imshow(images_train[test_index], cmap='Greys')"
   ]
  },
  {
   "cell_type": "markdown",
   "metadata": {
    "colab_type": "text",
    "id": "-76bBO2rlABd"
   },
   "source": [
    "The input of the neural network needs to know the input shape that it is going to be fed"
   ]
  },
  {
   "cell_type": "code",
   "execution_count": 4,
   "metadata": {
    "colab": {
     "base_uri": "https://localhost:8080/",
     "height": 34
    },
    "colab_type": "code",
    "id": "gWwrc29FlEgQ",
    "outputId": "499fa611-a98c-4c42-fa16-fe30ca8bce28"
   },
   "outputs": [
    {
     "name": "stdout",
     "output_type": "stream",
     "text": [
      "60000 images, each with shape of 28 pixels x 28 pixels\n"
     ]
    }
   ],
   "source": [
    "input_shape = images_train.shape\n",
    "print(\"{} images, each with shape of {} pixels x {} pixels\".format(input_shape[0], input_shape[1], input_shape[2]))"
   ]
  },
  {
   "cell_type": "markdown",
   "metadata": {
    "colab_type": "text",
    "id": "zn-3cvuymAWT"
   },
   "source": [
    "The input shape for the model must be reshaped to 4D as the current shape does not show that each pixel is a 1D array where only the greyscale value (0-255) is stored. The input tensor's shape will be 3D as it will take a single-channel image. "
   ]
  },
  {
   "cell_type": "code",
   "execution_count": 5,
   "metadata": {
    "colab": {
     "base_uri": "https://localhost:8080/",
     "height": 34
    },
    "colab_type": "code",
    "id": "qOZnWmzUmTuI",
    "outputId": "62cf6c27-4c52-4ca9-b1c2-30c3ce72ef42"
   },
   "outputs": [
    {
     "name": "stdout",
     "output_type": "stream",
     "text": [
      "Input shape: (60000, 28, 28)\n"
     ]
    }
   ],
   "source": [
    "images_train = images_train.reshape(images_train.shape[0], images_train.shape[1], images_train.shape[2], 1)\n",
    "images_test = images_test.reshape(images_test.shape[0], images_test.shape[1], images_test.shape[2], 1)\n",
    "input_tensor_shape = (images_test.shape[1], images_test.shape[2], 1)\n",
    "print(\"Input shape: {}\".format(input_shape))"
   ]
  },
  {
   "cell_type": "markdown",
   "metadata": {
    "colab_type": "text",
    "id": "mjPMYztkm0tg"
   },
   "source": [
    "The greyscale values stores in the images' pixels are 8 bit values and need to be normalized into floats between 0-1."
   ]
  },
  {
   "cell_type": "code",
   "execution_count": 6,
   "metadata": {
    "colab": {},
    "colab_type": "code",
    "id": "adD13BYinHlG"
   },
   "outputs": [],
   "source": [
    "images_train = images_train.astype('float32')\n",
    "images_test = images_test.astype('float32')\n",
    "images_train /= 255\n",
    "images_test /= 255"
   ]
  },
  {
   "cell_type": "markdown",
   "metadata": {
    "colab_type": "text",
    "id": "E_2kP1T5mQY2"
   },
   "source": [
    "Model Configuration Data structure to  store in JSON file. Double-click (or enter) to edit"
   ]
  },
  {
   "cell_type": "code",
   "execution_count": 7,
   "metadata": {
    "colab": {},
    "colab_type": "code",
    "id": "fgrrXvh6pAa5"
   },
   "outputs": [],
   "source": [
    "from enum import Enum, auto\n",
    "import sys\n",
    "\n",
    "class Conv2DArgs(Enum):\n",
    "  'Args needed for creating Conv2DArgs layer, list not complete'\n",
    "  FILTERS = auto()\n",
    "  KERNEL_SIZE = auto()\n",
    "  STRIDES = auto()\n",
    "  INPUT_SIZE = auto()\n",
    "\n",
    "class MaxPool2DArgs(Enum):\n",
    "  'Args needed for creating MaxPool2D layer, list not complete'\n",
    "  POOL_SIZE = auto()\n",
    "  STRIDES = auto()\n",
    "\n",
    "class ReshapeArgs(Enum):\n",
    "  'Args needed for creating Reshape layer'\n",
    "  TARGET_SHAPE = auto()\n",
    "\n",
    "class DenseArgs(Enum):\n",
    "  'Args needed for creating Dense layer, list not complete'\n",
    "  UNITS = auto()\n",
    "  ACTIVATION = auto()\n",
    "\n",
    "class DropoutArgs(Enum):\n",
    "  'Args needed for creating Dropout layer, list not complete'\n",
    "  RATE = auto()\n",
    "\n",
    "class ModelLayer:\n",
    "  'Common layer properties'\n",
    "\n",
    "  def __init__(self, name):\n",
    "    self.name = name\n",
    "    self.args = {}\n",
    "\n",
    "class Conv2DLayer(ModelLayer):\n",
    "\n",
    "  def __init__(self, filters, kernel_size, strides, input_size):\n",
    "    super().__init__(\"Conv2D\")\n",
    "    self.args[Conv2DArgs.FILTERS.name] = filters\n",
    "    self.args[Conv2DArgs.KERNEL_SIZE.name] = kernel_size\n",
    "    self.args[Conv2DArgs.STRIDES.name] = strides\n",
    "    self.args[Conv2DArgs.INPUT_SIZE.name] = input_size \n",
    "\n",
    "  def getkeraslayer(self):\n",
    "    kernel_size=self.args.get(Conv2DArgs.KERNEL_SIZE.name)\n",
    "    strides=self.args.get(Conv2DArgs.STRIDES.name)\n",
    "    input_shape=self.args.get(Conv2DArgs.INPUT_SIZE.name)\n",
    "    return keras.layers.Conv2D(\n",
    "        self.args.get(Conv2DArgs.FILTERS.name), \n",
    "        kernel_size=self.args.get(Conv2DArgs.KERNEL_SIZE.name), \n",
    "        strides=self.args.get(Conv2DArgs.STRIDES.name), \n",
    "        input_shape=self.args.get(Conv2DArgs.INPUT_SIZE.name))\n",
    "\n",
    "class MaxPool2DLayer(ModelLayer):\n",
    "\n",
    "  def __init__(self, pool_size, strides):\n",
    "    super().__init__(\"MaxPool2D\")\n",
    "    self.args[MaxPool2DArgs.POOL_SIZE.name] = pool_size\n",
    "    self.args[MaxPool2DArgs.STRIDES.name] = strides \n",
    "\n",
    "  def getkeraslayer(self):\n",
    "    return keras.layers.MaxPool2D(\n",
    "        pool_size=self.args.get(MaxPool2DArgs.POOL_SIZE.name),\n",
    "        strides=self.args.get(MaxPool2DArgs.STRIDES.name)\n",
    "    )\n",
    "\n",
    "class MaxPool3DLayer(MaxPool2DLayer):\n",
    "\n",
    "  def __init__(self, pool_size, strides):\n",
    "    super(MaxPool2DLayer, self).__init__(\"MaxPool3D\")\n",
    "    super().__init__(pool_size, strides)\n",
    "    \n",
    "  def getkeraslayer(self):\n",
    "    return keras.layers.MaxPool3D(\n",
    "        pool_size=self.args.get(MaxPool2DArgs.POOL_SIZE.name),\n",
    "        strides=self.args.get(MaxPool2DArgs.STRIDES.name)\n",
    "    )\n",
    "  \n",
    "class ReshapeLayer(ModelLayer):\n",
    "\n",
    "  def __init__(self, target_shape):\n",
    "    super().__init__(\"Reshape\")\n",
    "    self.args[ReshapeArgs.TARGET_SHAPE.name] = target_shape\n",
    "\n",
    "  def getkeraslayer(self):\n",
    "    target_shape = self.args.get(ReshapeArgs.TARGET_SHAPE.name)\n",
    "    return keras.layers.Reshape(target_shape)\n",
    "\n",
    "class DenseLayer(ModelLayer):\n",
    "\n",
    "  def __init__(self, units, activation):\n",
    "    super().__init__(\"Dense\")\n",
    "    self.args[DenseArgs.UNITS.name] = units\n",
    "    self.args[DenseArgs.ACTIVATION.name] = activation\n",
    "\n",
    "  def getkeraslayer(self):\n",
    "    units = self.args.get(DenseArgs.UNITS.name)\n",
    "    activation = self.args.get(DenseArgs.ACTIVATION.name)\n",
    "    return keras.layers.Dense(units, activation=activation)\n",
    "\n",
    "class FlattenLayer(ModelLayer):\n",
    "\n",
    "  def __init__(self):\n",
    "    super().__init__(\"Flatten\")\n",
    "\n",
    "  def getkeraslayer(self):\n",
    "    return keras.layers.Flatten()\n",
    "\n",
    "class Dropout(ModelLayer):\n",
    "\n",
    "  def __init__(self, rate):\n",
    "    super().__init__(\"Dropout\")\n",
    "    self.args[DropoutArgs.RATE.name] = rate\n",
    "  \n",
    "  def getkeraslayer(self):\n",
    "    rate = self.args.get(DropoutArgs.RATE.name)\n",
    "    return keras.layers.Dropout(rate)\n",
    "  "
   ]
  },
  {
   "cell_type": "markdown",
   "metadata": {
    "colab_type": "text",
    "id": "yKLtorXUJD7q"
   },
   "source": [
    "For Model_Configuration1, the the convolutional NN that we \n",
    "will use to classify the input images taken from the touch screen will have the following layer structure\n",
    "\n",
    "*  Conv2D\n",
    "*  MaxPooling2D\n",
    "*   Flatten\n",
    "*   Dense\n",
    "*   Dropout\n",
    "\n",
    "\n",
    "\n"
   ]
  },
  {
   "cell_type": "markdown",
   "metadata": {
    "colab_type": "text",
    "id": "CglsN8z8LCAy"
   },
   "source": [
    "The Conv2D layer extracts features from the input image using filters that slide across the input image. For eg. if we use 28 different filters to extract a large number of unique features that will then be used to classify each image in the later layers. Thus the output of this layer will have the shape (28, 28, 1, 28)\n",
    "\n",
    "MaxPooling2D is used to reduce the output size of the convolutional layer by reducing for eg: each 2 x 2 unique chunk of the output down in to a singular value, this reducing the output's size by a factor of 4. This will reduce our (28, 28, 1, 28) tensor down to a (7, 7, 1, 28) tensor.\n",
    "\n",
    "The Flatten layer then takes this 2D array (our image) and shapes it into a single dimension (1372).\n",
    "\n",
    "The following Dense layer reduces the input 1372 values down into 128 classes, taking the first steps in classifying the image into on of the 10 output classes (0-9). This is done using the relu activation function.\n",
    "\n",
    "The Dropout layer sets eg: 20% (if Drop out rate =0.2) of the tensor's values to 0 so as to reduce overfitting.\n",
    "\n",
    "Finally the last Dense layer reduces the output value down to the 10 classes, each representing a digit between 0 and 9. This is done using the softmax activation function which makes the outputs a set of probabilities summing to 1.\n"
   ]
  },
  {
   "cell_type": "code",
   "execution_count": 10,
   "metadata": {
    "colab": {},
    "colab_type": "code",
    "id": "KI8At9nQDSPg"
   },
   "outputs": [],
   "source": [
    "\n",
    "class Model:\n",
    "\n",
    "  def __init__(self, json, optimizer='adam', \n",
    "               loss='sparse_categorical_crossentropy', metrics=['accuracy']):\n",
    "    self.optimizer = optimizer\n",
    "    self.loss = loss\n",
    "    self.metrics = metrics\n",
    "    self.layer = []\n",
    "    for individual in json: \n",
    "      layer_no=len(individual)\n",
    "    for layer in individual:\n",
    "      name=layer['name']\n",
    "      if name == \"Conv2D\":\n",
    "        #print(\"entered conv2d\")\n",
    "        filters = layer[\"FILTERS\"]\n",
    "        kernel = arg[\"KERNEL_SIZE\"]\n",
    "        kernel_size = tuple(kernel)\n",
    "        input = arg[\"INPUT_SIZE\"]\n",
    "        input_size = tuple(input)\n",
    "        self.layer.append(Conv2DLayer(filters, kernel_size, strides, input_size))\n",
    "        #print(\"Created {} layer with {} filters, {} kernel size, {} stride size and {} input size\".format(\n",
    "        #name, filters, kernel_size, strides, input_size\n",
    "      #))\n",
    "      elif name == \"MaxPool2D\" or name == \"MaxPool3D\":\n",
    "        pool_size = layer[\"POOL_SIZE\"]\n",
    "        strides = None\n",
    "        if name == \"MaxPool2D\":\n",
    "          self.layer.append(MaxPool2DLayer(pool_size, strides))\n",
    "          #print(\"Created {} layer with {} pool size and {} stride size\".format(\n",
    "              #name, pool_size, strides\n",
    "          #))\n",
    "        else:\n",
    "          self.layer.append(MaxPool3DLayer(pool_size, strides))\n",
    "          #print(\"Created {} layer with {} pool size and {} stride size\".format(\n",
    "              #name, pool_size, strides\n",
    "        #))\n",
    "      elif name == \"Reshape\":\n",
    "        #print(\"entered reshape\")\n",
    "        arg=json[str(layer)][\"args\"]\n",
    "        target_shape = arg[\"TARGET_SHAPE\"]\n",
    "        self.layer.append(ReshapeLayer(target_shape))\n",
    "        #print(\" Created {} layer with {} target shape\".format(name, target_shape))\n",
    "      elif name == \"Dense\":\n",
    "        units = layer[\"UNITS\"]\n",
    "        activation = getattr(tf.nn, layer[\"ACTIVATION\"])\n",
    "        self.layer.append(DenseLayer(units, activation))\n",
    "        #print(\"Created {} layer with {} units and {} activation\".format(name, units, activation))\n",
    "      elif name == \"Flatten\":\n",
    "        self.layer.append(FlattenLayer())\n",
    "        #print(\"Created {} layer\".format(name))\n",
    "      elif name == \"Dropout\": \n",
    "        rate = layer[\"RATE\"]\n",
    "        self.layer.append(Dropout(rate))\n",
    "        #print(\"Created {} layers with {} rate\".format(name, rate))\n",
    "      #print(self.layer)\n",
    "\n",
    "  def gettfmodel(self):\n",
    "    model = keras.Sequential()\n",
    "    for layer in self.layer:\n",
    "      model.add(layer.getkeraslayer())\n",
    "    #print(model)\n",
    "    model.compile(optimizer=self.optimizer, loss=self.loss, metrics=self.metrics)\n",
    "    return model\n",
    " "
   ]
  },
  {
   "cell_type": "code",
   "execution_count": null,
   "metadata": {
    "colab": {},
    "colab_type": "code",
    "id": "rt_zU0RQDLc0"
   },
   "outputs": [],
   "source": [
    "def filters():\n",
    "  while True:\n",
    "    n = random.randint(1, 20)\n",
    "    if n%2 == 0:\n",
    "        return n\n",
    "def kernel_size():\n",
    "  kernel_size=[1,3,5]\n",
    "  return random.choice(kernel_size)"
   ]
  },
  {
   "cell_type": "markdown",
   "metadata": {
    "colab_type": "text",
    "id": "CJTykh07DQLL"
   },
   "source": [
    "Here, each individual is a list of dictionary, where each dictionary is a layer with keys as different attributes or parameters  of the layer  and values as the values of those parameters which are generated randomly on creation of a new individual or a new CNN architecture.\n",
    "Upto this point no. of layers in a CNN architecture if fixed which indicates that individual size is same in the population."
   ]
  },
  {
   "cell_type": "code",
   "execution_count": 163,
   "metadata": {
    "colab": {},
    "colab_type": "code",
    "id": "nozxrpGU2M1o"
   },
   "outputs": [],
   "source": [
    "# random creation of architecture \n",
    "def Create_Conv():\n",
    "    Conv_Layer={}\n",
    "    Conv_Layer['name']='Conv2D'\n",
    "    Conv_Layer['INPUT_SIZE']=[28,28,1]\n",
    "    Conv_Layer['FILTERS']=filters() #check on usage F<=N\n",
    "    kernel=kernel_size()\n",
    "    Conv_Layer['KERNEL_SIZE']=[kernel,kernel]\n",
    "    Conv_Layer['STRIDE']=(1,1)\n",
    "    Conv_Layer['PADDING']=int((kernel_size()-1)/2)\n",
    "    if(Conv_Layer['FILTERS']>= Conv_Layer['INPUT_SIZE'][0]):\n",
    "      print(Conv_Layer['FILTERS'])\n",
    "      print(Conv_Layer['INPUT_SIZE'][0])\n",
    "      print('Invalid Conv Layer')\n",
    "    else:\n",
    "      print(\"valid Conv Layer\")\n",
    "    return Conv_Layer\n",
    "\n",
    "\n",
    "def Create_Maxpool():\n",
    "    Pool_Layer={}\n",
    "    Pool_Layer['name']='Maxpool2D'\n",
    "    Pool_Layer['POOL_SIZE']= [2, 2]\n",
    "    print(\"Created Maxpool Layer\")\n",
    "    return Pool_Layer\n",
    "\n",
    "def Create_Dense():\n",
    "    Dense_Layer={}\n",
    "    Dense_Layer['name']='Dense'\n",
    "    Dense_Layer['UNITS']=128\n",
    "    Dense_Layer['ACTIVATION']='relu'\n",
    "    print(\"Created Dense Layer\")\n",
    "    return Dense_Layer\n",
    "\n",
    "\n",
    "def Create_Dropout():\n",
    "    Dropout_Layer={}\n",
    "    Dropout_Layer['name']='Dropout'\n",
    "    Dropout_Layer['RATE']=0.2\n",
    "    print(\"Created Dropout Layer\")\n",
    "    return Dropout_Layer\n"
   ]
  },
  {
   "cell_type": "markdown",
   "metadata": {
    "colab_type": "text",
    "id": "LpEKcz4bEQrO"
   },
   "source": [
    "In the creation of individual i.e a CNN architecture the Conv layer parameters are randomly generated and checked for validity conditions using some equations to validate CNN filter_size, padding and stride."
   ]
  },
  {
   "cell_type": "markdown",
   "metadata": {
    "colab_type": "text",
    "id": "Liw5-nqEHQsI"
   },
   "source": [
    "Further randomness need to applied on the parameters of other layers in the architecture like the pool size generation, No. of Activation units and Dropout rate.Also, sequence and number of layers in CNN need to changed randomly hile generating a new Individual."
   ]
  },
  {
   "cell_type": "code",
   "execution_count": 170,
   "metadata": {
    "colab": {},
    "colab_type": "code",
    "id": "Aw1eEjRo4Nw7"
   },
   "outputs": [],
   "source": [
    "# function to create an individual with pre-defined no. of layers \n",
    "def create_Layer():\n",
    "  create_Layer.counter += 1\n",
    "  print(create_Layer.counter )\n",
    "  if(create_Layer.counter%4 == 1):\n",
    "    Create_Conv()\n",
    "  if(create_Layer.counter%4 ==2):\n",
    "    Create_Maxpool()\n",
    "  if(create_Layer.counter%4 ==3):\n",
    "    Create_Dense()\n",
    "  if(create_Layer.counter%4 ==0):\n",
    "    Create_Dropout()\n",
    "  \n",
    "    \n"
   ]
  },
  {
   "cell_type": "markdown",
   "metadata": {
    "colab_type": "text",
    "id": "DxCYe4KmJ4U1"
   },
   "source": [
    "We need first to define our individual, strategy and fitness as datatypes using Create. The first argument gives the datatype name, the second gives the base class and from the third argument the attributes for the class will follow up."
   ]
  },
  {
   "cell_type": "markdown",
   "metadata": {
    "colab_type": "text",
    "id": "ycTEqp0NHISM"
   },
   "source": [
    "Here, the create() function takes at least two arguments, a name for the newly created class eg: \"FitnessMulti\" and a base class eg: \"base.Fitness\". Any subsequent argument becomes an attribute of the class. Here, weights are the attributes of our newly created Class \"FItnessMulti\". For Multi-Objective fitnesses the weights attribute must be a tuple where negative and positive signs indicates minimizing and maximizing the fitness respectively."
   ]
  },
  {
   "cell_type": "code",
   "execution_count": 171,
   "metadata": {
    "colab": {
     "base_uri": "https://localhost:8080/",
     "height": 71
    },
    "colab_type": "code",
    "id": "B6rb2saZ2O2K",
    "outputId": "fc758990-b6f7-4c2c-e31f-810db68faa09"
   },
   "outputs": [
    {
     "name": "stderr",
     "output_type": "stream",
     "text": [
      "/usr/local/lib/python3.6/dist-packages/deap/creator.py:141: RuntimeWarning: A class named 'FitnessMulti' has already been created and it will be overwritten. Consider deleting previous creation of that class or rename it.\n",
      "  RuntimeWarning)\n"
     ]
    }
   ],
   "source": [
    "# creator is a class factory that can build new classes at run-time\n",
    "# fitness function on Individual \n",
    "creator.create(\"FitnessMulti\", base.Fitness, weights=(-1.0, ))"
   ]
  },
  {
   "cell_type": "markdown",
   "metadata": {
    "colab_type": "text",
    "id": "U4Q-c9tTKOsJ"
   },
   "source": [
    "On running the above cell the datatype FitnessMulti is added dynamically to the creator subpackage and we can access it directly as ‘creator.FitnessMulti’."
   ]
  },
  {
   "cell_type": "markdown",
   "metadata": {
    "colab_type": "text",
    "id": "IqhznfxAGmvb"
   },
   "source": [
    "The individual created will be a simple list containing each layer as a dictionary for eg: [{Layer1},{Layer2},{Layer3}...{No_of_Layers}] with a minimizing an objectives fitness attribute i.e RMSE. In order to produce this kind of individual, we need to create an Individual class, using the creator, that will inherit from the standard list type and have a fitness attribute.\n",
    " DEAP looks for fitness attribute when it wants to update the fitness value or read it, ex. fitness Multi as one of the argument is passed into the function."
   ]
  },
  {
   "cell_type": "code",
   "execution_count": 172,
   "metadata": {
    "colab": {
     "base_uri": "https://localhost:8080/",
     "height": 71
    },
    "colab_type": "code",
    "id": "K5Sjgnyk9U8Z",
    "outputId": "1610c293-7cf4-48e6-d521-9190b09698e6"
   },
   "outputs": [
    {
     "name": "stderr",
     "output_type": "stream",
     "text": [
      "/usr/local/lib/python3.6/dist-packages/deap/creator.py:141: RuntimeWarning: A class named 'Individual' has already been created and it will be overwritten. Consider deleting previous creation of that class or rename it.\n",
      "  RuntimeWarning)\n"
     ]
    }
   ],
   "source": [
    "creator.create(\"Individual\", list, fitness=creator.FitnessMulti)"
   ]
  },
  {
   "cell_type": "markdown",
   "metadata": {
    "colab_type": "text",
    "id": "v49mjxkwKsCi"
   },
   "source": [
    "A toolbox stores functions and their arguments."
   ]
  },
  {
   "cell_type": "code",
   "execution_count": 173,
   "metadata": {
    "colab": {},
    "colab_type": "code",
    "id": "hddRWRkU9XI7"
   },
   "outputs": [],
   "source": [
    "toolbox = base.Toolbox()"
   ]
  },
  {
   "cell_type": "markdown",
   "metadata": {
    "colab_type": "text",
    "id": "Yau20a3FHc4r"
   },
   "source": [
    "The newly introduced register() method takes at least two arguments; an alias and a function assigned to this alias. Any subsequent argument is passed to the function when called. Thus, the preceding code creates two aliases in the toolbox; Layer_dict and Individual."
   ]
  },
  {
   "cell_type": "markdown",
   "metadata": {
    "colab_type": "text",
    "id": "3ufhZELTIXTs"
   },
   "source": [
    "The first one redirects to the create_layer() function which returns different types of Layers each time when called. The second one is a shortcut to the initRepeat() function, fixing its container argument to the creator.Individual class, its func argument to the toolbox.Layer_dict() function, and its number of repetitions argument to No_of_layers to be created for each Individual."
   ]
  },
  {
   "cell_type": "markdown",
   "metadata": {
    "colab_type": "text",
    "id": "3LB1FcQYIbKi"
   },
   "source": [
    "Now, calling toolbox.individual() will call initRepeat() with the fixed arguments and return a complete creator.Individual composed of each layer as a dictionary with 'n' such dictionaries, where n=No_of_Layers  with a minimizing multi-objective fitness attribute."
   ]
  },
  {
   "cell_type": "code",
   "execution_count": 174,
   "metadata": {
    "colab": {},
    "colab_type": "code",
    "id": "hmCBc7fM2gvl"
   },
   "outputs": [],
   "source": [
    "create_Layer.counter=0\n",
    "toolbox.register(\"Layer_dict\", create_Layer)\n",
    "No_of_Layers=4\n",
    "toolbox.register(\"Individual\", tools.initRepeat, creator.Individual,\n",
    "                 toolbox.Layer_dict, n=No_of_Layers)\n"
   ]
  },
  {
   "cell_type": "markdown",
   "metadata": {
    "colab_type": "text",
    "id": "czLicfmqFJM3"
   },
   "source": [
    "opulations are much like individuals. Instead of being initialized with attributes, they are filled with individuals. The population is initialized using the toolbox and the initRepeat() function directly."
   ]
  },
  {
   "cell_type": "markdown",
   "metadata": {
    "colab_type": "text",
    "id": "iF-nfZvuIv7F"
   },
   "source": [
    "Calling toolbox.population() will readily return a complete population in a list, providing a number of times the repeat helper must be repeated as an argument of the population function. The following example produces a population with 6 individuals."
   ]
  },
  {
   "cell_type": "code",
   "execution_count": 181,
   "metadata": {
    "colab": {
     "base_uri": "https://localhost:8080/",
     "height": 833
    },
    "colab_type": "code",
    "id": "f3gvHIK5ARHa",
    "outputId": "641d11a0-6ece-4807-ae82-49e8b40b2858"
   },
   "outputs": [
    {
     "name": "stdout",
     "output_type": "stream",
     "text": [
      "25\n",
      "valid Conv Layer\n",
      "26\n",
      "Created Maxpool Layer\n",
      "27\n",
      "Created Dense Layer\n",
      "28\n",
      "Created Dropout Layer\n",
      "29\n",
      "valid Conv Layer\n",
      "30\n",
      "Created Maxpool Layer\n",
      "31\n",
      "Created Dense Layer\n",
      "32\n",
      "Created Dropout Layer\n",
      "33\n",
      "valid Conv Layer\n",
      "34\n",
      "Created Maxpool Layer\n",
      "35\n",
      "Created Dense Layer\n",
      "36\n",
      "Created Dropout Layer\n",
      "37\n",
      "valid Conv Layer\n",
      "38\n",
      "Created Maxpool Layer\n",
      "39\n",
      "Created Dense Layer\n",
      "40\n",
      "Created Dropout Layer\n",
      "41\n",
      "valid Conv Layer\n",
      "42\n",
      "Created Maxpool Layer\n",
      "43\n",
      "Created Dense Layer\n",
      "44\n",
      "Created Dropout Layer\n",
      "45\n",
      "valid Conv Layer\n",
      "46\n",
      "Created Maxpool Layer\n",
      "47\n",
      "Created Dense Layer\n",
      "48\n",
      "Created Dropout Layer\n"
     ]
    }
   ],
   "source": [
    "toolbox.register(\"population\", tools.initRepeat, list, toolbox.Individual)\n",
    "\n",
    "pop=toolbox.population(n=6)\n"
   ]
  },
  {
   "cell_type": "code",
   "execution_count": 105,
   "metadata": {
    "colab": {},
    "colab_type": "code",
    "id": "5R8gzHAO1Q_a"
   },
   "outputs": [],
   "source": [
    "# def init_population(Individual,n):\n",
    "#   population=[]\n",
    "#   n = 5\n",
    "#   for i in range(0,n):\n",
    "#     Conv_Layer=Create_Conv()\n",
    "#     if(Conv_Layer['FILTERS']>= Conv_Layer['INPUT_SIZE'][0]):\n",
    "#       print(Conv_Layer['FILTERS'])\n",
    "#       print(Conv_Layer['INPUT_SIZE'][0])\n",
    "#       print('Invalid Conv Layer')\n",
    "#     else:\n",
    "#       Individual.append(Conv_Layer)\n",
    "#       individual.append(Conv_Layer.copy())\n",
    "#     individual.append(Create_Maxpool())\n",
    "#     individual.append(Create_Dense())\n",
    "#     individual.append(Create_Dropout())\n",
    "#     population.append(individual)\n",
    "#   return population\n",
    "\n",
    "#   print(len(population))\n",
    "#   print(population[0])"
   ]
  },
  {
   "cell_type": "code",
   "execution_count": 22,
   "metadata": {
    "colab": {},
    "colab_type": "code",
    "id": "nrZKBGxXXMJp"
   },
   "outputs": [],
   "source": [
    "def evalCNN(population):\n",
    "  outparam={}\n",
    "  test_model=Model(population)\n",
    "  tf_model= test_model.gettfmodel()\n",
    "  history = tf_model.fit(x=images_train,y=labels_train, epochs=1, batch_size=100)\n",
    "  res = tf_model.evaluate(images_test, labels_test)\n",
    "  Total_Params=count_params(tf_model.trainable_weights)+count_params(tf_model.non_trainable_weights)\n",
    "  return res[0],Total_Params           # Ensure overweighted bags are dominated"
   ]
  },
  {
   "cell_type": "markdown",
   "metadata": {
    "colab_type": "text",
    "id": "61U5AF6OJu9z"
   },
   "source": [
    "**Implementation of NSGA-II Algorithm (Deap)**"
   ]
  },
  {
   "cell_type": "code",
   "execution_count": 23,
   "metadata": {
    "colab": {},
    "colab_type": "code",
    "id": "gePqc__FXRhS"
   },
   "outputs": [],
   "source": [
    "toolbox.register(\"evaluate\", evalCNN)\n",
    "toolbox.register(\"select\", tools.selNSGA2)"
   ]
  },
  {
   "cell_type": "code",
   "execution_count": 24,
   "metadata": {
    "colab": {
     "base_uri": "https://localhost:8080/",
     "height": 249
    },
    "colab_type": "code",
    "id": "2k-61eCSXW-e",
    "outputId": "aaf9187e-8a54-46b6-b5bc-65f05a008837"
   },
   "outputs": [
    {
     "name": "stdout",
     "output_type": "stream",
     "text": [
      "-- Generation 0 --\n"
     ]
    },
    {
     "ename": "NameError",
     "evalue": "ignored",
     "output_type": "error",
     "traceback": [
      "\u001b[0;31m---------------------------------------------------------------------------\u001b[0m",
      "\u001b[0;31mNameError\u001b[0m                                 Traceback (most recent call last)",
      "\u001b[0;32m<ipython-input-24-4d53717278dd>\u001b[0m in \u001b[0;36m<module>\u001b[0;34m()\u001b[0m\n\u001b[1;32m      9\u001b[0m \u001b[0;34m\u001b[0m\u001b[0m\n\u001b[1;32m     10\u001b[0m     \u001b[0;31m# select the next generation individuals\u001b[0m\u001b[0;34m\u001b[0m\u001b[0;34m\u001b[0m\u001b[0;34m\u001b[0m\u001b[0m\n\u001b[0;32m---> 11\u001b[0;31m     \u001b[0moffspring\u001b[0m \u001b[0;34m=\u001b[0m \u001b[0mtoolbox\u001b[0m\u001b[0;34m.\u001b[0m\u001b[0mselect\u001b[0m\u001b[0;34m(\u001b[0m\u001b[0mpopulation\u001b[0m\u001b[0;34m,\u001b[0m \u001b[0mlen\u001b[0m\u001b[0;34m(\u001b[0m\u001b[0mpopulation\u001b[0m\u001b[0;34m)\u001b[0m\u001b[0;34m)\u001b[0m\u001b[0;34m\u001b[0m\u001b[0;34m\u001b[0m\u001b[0m\n\u001b[0m\u001b[1;32m     12\u001b[0m     \u001b[0mprint\u001b[0m\u001b[0;34m(\u001b[0m\u001b[0moffspring\u001b[0m\u001b[0;34m)\u001b[0m\u001b[0;34m\u001b[0m\u001b[0;34m\u001b[0m\u001b[0m\n\u001b[1;32m     13\u001b[0m     \u001b[0;31m# clone the selected individuals\u001b[0m\u001b[0;34m\u001b[0m\u001b[0;34m\u001b[0m\u001b[0;34m\u001b[0m\u001b[0m\n",
      "\u001b[0;31mNameError\u001b[0m: name 'population' is not defined"
     ]
    }
   ],
   "source": [
    "\n",
    "# begin the evolution\n",
    "# random.seed(64)\n",
    "\n",
    "# instantiate a population\n",
    "CXPB, MUTPB, NGEN = 0.0, 0.0, 10\n",
    "for g in range(NGEN):\n",
    "    print(\"-- Generation %i --\" % g)\n",
    "\n",
    "    # select the next generation individuals\n",
    "    offspring = toolbox.select(population, len(population))\n",
    "    print(offspring)\n",
    "    # clone the selected individuals\n",
    "    offspring = list(map(toolbox.clone, offspring))\n",
    "\n",
    "    # # apply crossover and mutation on the offspring\n",
    "    # for child1, child2 in zip(offspring[::2], offspring[1::2]):\n",
    "    #     if random.random() < CXPB:\n",
    "    #         toolbox.mate(child1, child2)\n",
    "    #         del child1.fitness.values\n",
    "    #         del child2.fitness.values\n",
    "\n",
    "    # for mutant in offspring:\n",
    "    #     if random.random() < MUTPB:\n",
    "    #         toolbox.mutate(mutant)\n",
    "    #         del mutant.fitness.values\n",
    "\n",
    "    # evaluate the individuals with an invalid fitness\n",
    "    invalid_ind = [ind for ind in offspring if not ind.fitness.valid]\n",
    "    # fitnesses = map(toolbox.evaluate, invalid_ind)\n",
    "    # for ind, fit in zip(invalid_ind, fitnesses):\n",
    "    #     ind.fitness.values = fit\n",
    "\n",
    "    # print(\"  Evaluated %i individuals\" % len(invalid_ind))\n",
    "\n",
    "    # evaluate the entire population\n",
    "    fitnesses = list(map(toolbox.evaluate, population))\n",
    "    print(fitnesses)\n",
    "    for ind, fit in zip(population, fitnesses):\n",
    "      ind.fitness.values = fit\n",
    "\n",
    "    print(\"  Evaluated %i individuals\" % len(population))\n",
    "\n",
    "    # the population is entirely replaced by the offspring\n",
    "    population[:] = offspring\n",
    "\n",
    "    # gather all the fitnesses in one list and print the stats\n",
    "    fits = [ind.fitness.values[0] for ind in population]\n",
    "\n",
    "    length = len(population)\n",
    "    mean = sum(fits) / length\n",
    "    sum2 = sum(x*x for x in fits)\n",
    "    std = abs(sum2 / length - mean**2)**0.5\n",
    " #As there is no mating, the population doesn't improve\n",
    "    print(\"  Min %s\" % min(fits))\n",
    "    print(\"  Max %s\" % max(fits))\n",
    "    print(\"  Avg %s\" % mean)\n",
    "    print(\"  Std %s\" % std)"
   ]
  },
  {
   "cell_type": "code",
   "execution_count": null,
   "metadata": {
    "colab": {},
    "colab_type": "code",
    "id": "vEMJuERDR3fl"
   },
   "outputs": [],
   "source": [
    "\n",
    "\n",
    "\n",
    "# I figure we can just call the layers '0', '1',...etc and this \"name\" is then the layer's index in the model\n",
    "'''Model_Configuration1= {\n",
    "        \n",
    "    0: {\n",
    "      'name': 'Conv2D',\n",
    "      'args':  {\n",
    "          Conv2DArgs.FILTERS.name: 28,\n",
    "          Conv2DArgs.KERNEL_SIZE.name: [3,3],\n",
    "          Conv2DArgs.INPUT_SIZE.name: [28,28,1]\n",
    "          }\n",
    "    }, \n",
    "    1: {\n",
    "      'name': 'MaxPool2D',\n",
    "      'args':  {\n",
    "          MaxPool2DArgs.POOL_SIZE.name: [2, 2],\n",
    "        }\n",
    "    },\n",
    "    2: {\n",
    "      'name': 'Flatten'\n",
    "    },\n",
    "    3: {\n",
    "      'name': 'Dense',\n",
    "      'args': {\n",
    "          DenseArgs.UNITS.name: 128,\n",
    "          DenseArgs.ACTIVATION.name: \"relu\"\n",
    "        }   \n",
    "    },\n",
    "    4: {\n",
    "        'name': 'Dropout',\n",
    "        'args':{\n",
    "            DropoutArgs.RATE.name: 0.2\n",
    "        }\n",
    "    },\n",
    "    5: {\n",
    "        'name' : 'Dense',\n",
    "        'args': {\n",
    "        DenseArgs.UNITS.name: 128,\n",
    "        DenseArgs.ACTIVATION.name: \"softmax\"\n",
    "      }   \n",
    "    } \n",
    "}\n",
    "\n",
    "Model_Configuration2= {\n",
    "        \n",
    "    0: {\n",
    "      'name': 'Conv2D',\n",
    "      'args':  {\n",
    "          Conv2DArgs.FILTERS.name: 28,\n",
    "          Conv2DArgs.KERNEL_SIZE.name: [3,3],\n",
    "          Conv2DArgs.INPUT_SIZE.name: [28,28,1]\n",
    "          }\n",
    "    }, \n",
    "    1: {\n",
    "      'name': 'MaxPool2D',\n",
    "      'args':  {\n",
    "          MaxPool2DArgs.POOL_SIZE.name: [2, 2],\n",
    "        }\n",
    "    },\n",
    "    2: {\n",
    "      'name': 'Flatten'\n",
    "    },\n",
    "    3: {\n",
    "      'name': 'Dense',\n",
    "      'args': {\n",
    "          DenseArgs.UNITS.name: 128,\n",
    "          DenseArgs.ACTIVATION.name: \"relu\"\n",
    "        }   \n",
    "    }, #changed removed Dropout layer\n",
    "    4: {\n",
    "        'name' : 'Dense',\n",
    "        'args': {\n",
    "        DenseArgs.UNITS.name: 128,\n",
    "        DenseArgs.ACTIVATION.name: \"softmax\"\n",
    "      }   \n",
    "    } \n",
    "}\n",
    "\n",
    "\n",
    "Model_Configuration3= {\n",
    "        \n",
    "    0: {\n",
    "      'name': 'Conv2D',\n",
    "      'args':  {\n",
    "          Conv2DArgs.FILTERS.name: 12, #changed\n",
    "          Conv2DArgs.KERNEL_SIZE.name: [3,3],\n",
    "          Conv2DArgs.INPUT_SIZE.name: [28,28,1]\n",
    "          }\n",
    "    }, \n",
    "    1: {\n",
    "      'name': 'MaxPool2D',\n",
    "      'args':  {\n",
    "          MaxPool2DArgs.POOL_SIZE.name: [4, 4], #changed\n",
    "        }\n",
    "    },\n",
    "    2: {\n",
    "      'name': 'Flatten'\n",
    "    },\n",
    "    3: {\n",
    "      'name': 'Dense',\n",
    "      'args': {\n",
    "          DenseArgs.UNITS.name: 128,\n",
    "          DenseArgs.ACTIVATION.name: \"relu\"\n",
    "        }   \n",
    "    },\n",
    "    4: {\n",
    "        'name': 'Dropout',\n",
    "        'args':{\n",
    "            DropoutArgs.RATE.name: 0.2\n",
    "        }\n",
    "    },\n",
    "    5: {\n",
    "        'name' : 'Dense',\n",
    "        'args': {\n",
    "        DenseArgs.UNITS.name: 128,\n",
    "        DenseArgs.ACTIVATION.name: \"softmax\"\n",
    "      }   \n",
    "    } \n",
    "}\n",
    "\n",
    "\n",
    "Model_Configuration4 = {\n",
    "    0: {\n",
    "        'name': 'Conv2D',\n",
    "        'args': {\n",
    "          Conv2DArgs.FILTERS.name: 12,\n",
    "          Conv2DArgs.KERNEL_SIZE.name: [3,3],\n",
    "          Conv2DArgs.STRIDES.name: [2,2],\n",
    "          Conv2DArgs.INPUT_SIZE.name: [28,28,1]\n",
    "          }\n",
    "    },\n",
    "    1: {\n",
    "        'name': 'Reshape',\n",
    "        'args': {\n",
    "            ReshapeArgs.TARGET_SHAPE.name: [13,13,12,1]\n",
    "        }\n",
    "    },\n",
    "    2: {\n",
    "        'name': \"MaxPool3D\",\n",
    "        'args':  {\n",
    "          MaxPool2DArgs.POOL_SIZE.name: [6, 3, 3],\n",
    "        }\n",
    "    },\n",
    "    3: {\n",
    "        'name': 'Flatten'\n",
    "    },\n",
    "    4: {\n",
    "        'name' : 'Dense',\n",
    "        'args': {\n",
    "        DenseArgs.UNITS.name: 128,\n",
    "        DenseArgs.ACTIVATION.name: \"softmax\"\n",
    "      } \n",
    "    }\n",
    "}'''\n",
    "\n"
   ]
  },
  {
   "cell_type": "markdown",
   "metadata": {
    "colab_type": "text",
    "id": "5N91rLqPm6kU"
   },
   "source": [
    "Reading and Writing Procedures for the JSON file"
   ]
  },
  {
   "cell_type": "code",
   "execution_count": null,
   "metadata": {
    "colab": {},
    "colab_type": "code",
    "id": "zN0MB-jbR3gU"
   },
   "outputs": [],
   "source": [
    "#Appending procedure JSON\n",
    "'''import os\n",
    "import random\n",
    "\n",
    "def write_json(json_model, filename):\n",
    "  with open(\"{}.json\".format(filename), mode='w+') as f:\n",
    "      f.write(json.dumps(json_model, indent=2))\n",
    "\n",
    "def load_json(filename):\n",
    "  if os.path.isfile(\"{}.json\".format(filename)):\n",
    "    with open(\"{}.json\".format(filename)) as f:\n",
    "        return json.load(f)'''\n",
    "        \n",
    "        \n"
   ]
  },
  {
   "cell_type": "markdown",
   "metadata": {
    "colab_type": "text",
    "id": "HsSeIhE5nNiI"
   },
   "source": [
    "Loading the parameters from JSON file as input to our Model. JSON file is used to store list of different combination of Input parameters."
   ]
  },
  {
   "cell_type": "code",
   "execution_count": null,
   "metadata": {
    "colab": {},
    "colab_type": "code",
    "id": "11lWYeETkMBb"
   },
   "outputs": [],
   "source": [
    "# # get model configuration params from our json file which is being appended\n",
    "'''import json\n",
    "\n",
    "write_json(Model_Configuration1, \"test1\")\n",
    "\n",
    "test_read = load_json(\"test1\")\n",
    "write_json(Model_Configuration2, \"test2\")\n",
    "\n",
    "test_read = load_json(\"test2\")\n",
    "\n",
    "write_json(Model_Configuration3, \"test3\")\n",
    "\n",
    "test_read = load_json(\"test3\")\n",
    "\n",
    "#writing to JSON Configuration file\n",
    "\n",
    "write_json(Model_Configuration4, \"test4\")\n",
    "\n",
    "test_read4 = load_json(\"test4\")'''"
   ]
  },
  {
   "cell_type": "code",
   "execution_count": null,
   "metadata": {
    "colab": {},
    "colab_type": "code",
    "id": "BxSmenYv821-"
   },
   "outputs": [],
   "source": [
    "'''def initIndividual(icls, content):\n",
    "    return icls(content)\n",
    "\n",
    "def initPopulation(pcls, ind_init, filename):\n",
    "    with open(filename, \"r\") as pop_file:\n",
    "       contents = json.load(pop_file)\n",
    "       for c in contents: \n",
    "         return pcls(ind_init(c) for c in contents)\n",
    "\n",
    "toolbox.register(\"population\", initPopulation, list, creator.Individual, \"Test.json\")'''\n",
    "\n",
    "#population=toolbox.population()\n",
    "#population=toolbox.population_guess()\n",
    "# print(population[0])\n",
    "# print(population[1])\n",
    "# print(type(population))\n"
   ]
  },
  {
   "cell_type": "code",
   "execution_count": null,
   "metadata": {
    "colab": {},
    "colab_type": "code",
    "id": "9HjEwEo9Uq09"
   },
   "outputs": [],
   "source": [
    "\n",
    "'''class Model:\n",
    "\n",
    "  def __init__(self, json, optimizer='adam', \n",
    "               loss='sparse_categorical_crossentropy', metrics=['accuracy']):\n",
    "    self.optimizer = optimizer\n",
    "    self.loss = loss\n",
    "    self.metrics = metrics\n",
    "    self.layer = []\n",
    "    layer_no=json.keys()\n",
    "    for layer in layer_no:\n",
    "      name= json[str(layer)][\"name\"]\n",
    "      if name == \"Conv2D\":\n",
    "        arg=json[str(layer)][\"args\"]\n",
    "        #print(\"entered conv2d\")\n",
    "        filters = arg[\"FILTERS\"]\n",
    "        kernel = arg[\"KERNEL_SIZE\"]\n",
    "        kernel_size = tuple(kernel)\n",
    "        input = arg[\"INPUT_SIZE\"]\n",
    "        input_size = tuple(input)\n",
    "        if \"STRIDES\" not in arg.keys():\n",
    "          strides =(1,1)\n",
    "        else:\n",
    "          strides =arg[\"STRIDES\"]\n",
    "        self.layer.append(Conv2DLayer(filters, kernel_size, strides, input_size))\n",
    "        #print(\"Created {} layer with {} filters, {} kernel size, {} stride size and {} input size\".format(\n",
    "        #name, filters, kernel_size, strides, input_size\n",
    "      #))\n",
    "      elif name == \"MaxPool2D\" or name == \"MaxPool3D\":\n",
    "        arg=json[str(layer)][\"args\"]\n",
    "        pool_size = arg[\"POOL_SIZE\"]\n",
    "        strides = None\n",
    "        if name == \"MaxPool2D\":\n",
    "          arg=json[str(layer)][\"args\"]\n",
    "          self.layer.append(MaxPool2DLayer(pool_size, strides))\n",
    "          #print(\"Created {} layer with {} pool size and {} stride size\".format(\n",
    "              #name, pool_size, strides\n",
    "          #))\n",
    "        else:\n",
    "          arg=json[str(layer)][\"args\"]\n",
    "          self.layer.append(MaxPool3DLayer(pool_size, strides))\n",
    "          #print(\"Created {} layer with {} pool size and {} stride size\".format(\n",
    "              #name, pool_size, strides\n",
    "        #))\n",
    "      elif name == \"Reshape\":\n",
    "        #print(\"entered reshape\")\n",
    "        arg=json[str(layer)][\"args\"]\n",
    "        target_shape = arg[\"TARGET_SHAPE\"]\n",
    "        self.layer.append(ReshapeLayer(target_shape))\n",
    "        #print(\" Created {} layer with {} target shape\".format(name, target_shape))\n",
    "      elif name == \"Dense\":\n",
    "        arg=json[str(layer)][\"args\"]\n",
    "        units = arg[\"UNITS\"]\n",
    "        activation = getattr(tf.nn, arg[\"ACTIVATION\"])\n",
    "        self.layer.append(DenseLayer(units, activation))\n",
    "        #print(\"Created {} layer with {} units and {} activation\".format(name, units, activation))\n",
    "      elif name == \"Flatten\":\n",
    "        self.layer.append(FlattenLayer())\n",
    "        #print(\"Created {} layer\".format(name))\n",
    "      elif name == \"Dropout\": \n",
    "        arg=json[str(layer)][\"args\"]\n",
    "        rate = arg[\"RATE\"]\n",
    "        self.layer.append(Dropout(rate))\n",
    "        #print(\"Created {} layers with {} rate\".format(name, rate))\n",
    "      #print(self.layer)\n",
    "\n",
    "  def gettfmodel(self):\n",
    "    model = keras.Sequential()\n",
    "    for layer in self.layer:\n",
    "      model.add(layer.getkeraslayer())\n",
    "    #print(model)\n",
    "    model.compile(optimizer=self.optimizer, loss=self.loss, metrics=self.metrics)\n",
    "    return model'''\n"
   ]
  },
  {
   "cell_type": "code",
   "execution_count": null,
   "metadata": {
    "colab": {},
    "colab_type": "code",
    "id": "gKBeL6pOTH6-"
   },
   "outputs": [],
   "source": [
    "# count=0\n",
    "# print(population)\n",
    "# print(population[0])\n",
    "# print(population[1])\n",
    "# print(population[2])\n",
    "# print(population[3])\n",
    "# print(len(population))"
   ]
  },
  {
   "cell_type": "markdown",
   "metadata": {
    "colab_type": "text",
    "id": "yAbn1DL2n3TA"
   },
   "source": [
    "Train the Model:"
   ]
  },
  {
   "cell_type": "code",
   "execution_count": 180,
   "metadata": {
    "colab": {},
    "colab_type": "code",
    "id": "DyZKabPExabX"
   },
   "outputs": [],
   "source": [
    "\n",
    "\n",
    "\n",
    "\n",
    "# test_model1=Model(population[0])\n",
    "# tf_model1 = test_model1.gettfmodel()\n",
    "# history = tf_model1.fit(x=images_train,y=labels_train, epochs=1, batch_size=100)\n",
    "# tf_model1.summary()\n",
    "\n",
    "\n",
    "\n",
    "  #print(every_individual)\n",
    "  # test_model1=Model(every_individual)\n",
    "  # tf_model1 = test_model1.gettfmodel()\n",
    "  # print(images_train.shape)\n",
    "  # print(labels_train.shape)\n",
    "  # tf_model1.summary()\n",
    "  # arg=every_individual[str(layer)][\"args\"]\n",
    "\n",
    "  # If \n"
   ]
  },
  {
   "cell_type": "code",
   "execution_count": null,
   "metadata": {
    "colab": {},
    "colab_type": "code",
    "id": "D9kFZdT7rmma"
   },
   "outputs": [],
   "source": [
    "\n",
    "# test_model2=Model(population[1])\n",
    "# tf_model2= test_model2.gettfmodel()\n",
    "# history = tf_model2.fit(x=images_train,y=labels_train, epochs=1, batch_size=100)\n",
    "\n",
    "# # tf_model2.summary()"
   ]
  },
  {
   "cell_type": "code",
   "execution_count": null,
   "metadata": {
    "colab": {},
    "colab_type": "code",
    "id": "nNP28qciBAcR"
   },
   "outputs": [],
   "source": []
  },
  {
   "cell_type": "code",
   "execution_count": null,
   "metadata": {
    "colab": {},
    "colab_type": "code",
    "id": "9AqZlausA0y2"
   },
   "outputs": [],
   "source": [
    "\n",
    "# test_model3=Model(population[2])\n",
    "# tf_model3= test_model3.gettfmodel()\n",
    "# history = tf_model3.fit(x=images_train,y=labels_train, epochs=1, batch_size=100)\n",
    "\n",
    "# tf_model3.summary()"
   ]
  },
  {
   "cell_type": "code",
   "execution_count": null,
   "metadata": {
    "colab": {},
    "colab_type": "code",
    "id": "07FOpj0lBEJf"
   },
   "outputs": [],
   "source": [
    "\n",
    "# test_model4=Model(population[3])\n",
    "# tf_model4= test_model4.gettfmodel()\n",
    "# history = tf_model4.fit(x=images_train,y=labels_train, epochs=1, batch_size=100)\n",
    "# tf_model4.summary()\n"
   ]
  },
  {
   "cell_type": "code",
   "execution_count": null,
   "metadata": {
    "colab": {},
    "colab_type": "code",
    "id": "ScZh7zrYGkCx"
   },
   "outputs": [],
   "source": [
    "# from keras.utils.layer_utils import count_params\n",
    "#  #Model_1 trainable Parameters\n",
    "\n",
    "# Total_Params_Model1= count_params(tf_model1.trainable_weights)+count_params(tf_model1.non_trainable_weights)\n",
    "# print(Total_Params_Model1)\n",
    "\n",
    "# Total_Params_Model2=count_params(tf_model2.trainable_weights)+count_params(tf_model2.non_trainable_weights)\n",
    "# print(Total_Params_Model2)\n",
    "\n",
    "# Total_Params_Model3=count_params(tf_model3.trainable_weights)+count_params(tf_model3.non_trainable_weights)\n",
    "# print(Total_Params_Model3)\n",
    "\n",
    "# Total_Params_Model4=count_params(tf_model4.trainable_weights)+count_params(tf_model4.non_trainable_weights)\n",
    "# print(Total_Params_Model4)\n"
   ]
  },
  {
   "cell_type": "code",
   "execution_count": null,
   "metadata": {
    "colab": {},
    "colab_type": "code",
    "id": "td_797v4FHHC"
   },
   "outputs": [],
   "source": [
    "# res = tf_model1.evaluate(images_test, labels_test)\n",
    "# res_2 = tf_model2.evaluate(images_test, labels_test)\n",
    "# res_3 = tf_model3.evaluate(images_test, labels_test)\n",
    "# res_4 = tf_model4.evaluate(images_test, labels_test)\n",
    "# print(res)\n",
    "\n",
    "# #Writing the required output parameters to be optimized to out\n",
    "# Model1={\n",
    "#     \"Accuracy\":res[1],\n",
    "#     \"Params\": Total_Params_Model1\n",
    "# }\n",
    "\n",
    "# Model2={\n",
    "#     \"Accuracy\":res_2[1],\n",
    "#     \"Params\": Total_Params_Model2\n",
    "# }\n",
    "\n",
    "# Model3={\n",
    "#     \"Accuracy\":res_3[1],\n",
    "#     \"Params\": Total_Params_Model3\n",
    "# }\n",
    "\n",
    "# Model4={\n",
    "#     \"Accuracy\":res_4[1],\n",
    "#     \"Params\": Total_Params_Model4\n",
    "# }\n",
    "\n",
    "\n",
    "# Model1[\"Accuracy\"] =res[1], \n",
    "#  {(, Total_Params_Model1)}\n",
    "# dict[ \"Model2\" ] = {(res_2[1],Total_Params_Model2)}\n",
    "# dict[ \"Model3\" ] = {(res_3[1],Total_Params_Model3)}\n",
    "# dict[ \"Model4\" ] = {(res_4[1],Total_Params_Model4)}"
   ]
  },
  {
   "cell_type": "code",
   "execution_count": null,
   "metadata": {
    "colab": {},
    "colab_type": "code",
    "id": "GPJ6WUrNEHam"
   },
   "outputs": [],
   "source": [
    "'''def evalCNN(population):\n",
    "  outparam={}\n",
    "  test_model=Model(population)\n",
    "  tf_model= test_model.gettfmodel()\n",
    "  history = tf_model.fit(x=images_train,y=labels_train, epochs=1, batch_size=100)\n",
    "  res = tf_model.evaluate(images_test, labels_test)\n",
    "  Total_Params=count_params(tf_model.trainable_weights)+count_params(tf_model.non_trainable_weights)\n",
    "  return res[0],Total_Params    '''       # Ensure overweighted bags are dominated"
   ]
  },
  {
   "cell_type": "code",
   "execution_count": null,
   "metadata": {
    "colab": {},
    "colab_type": "code",
    "id": "l9Uy5qbQMgyc"
   },
   "outputs": [],
   "source": [
    "# toolbox.register(\"evaluate\", evalCNN)\n",
    "# toolbox.register(\"select\", tools.selNSGA2)"
   ]
  },
  {
   "cell_type": "code",
   "execution_count": null,
   "metadata": {
    "colab": {
     "base_uri": "https://localhost:8080/",
     "height": 1000
    },
    "colab_type": "code",
    "id": "xAhdx6qLjVEj",
    "outputId": "4f12ee8d-1e4c-42c0-f5c6-52f866a0f0eb"
   },
   "outputs": [
    {
     "name": "stdout",
     "output_type": "stream",
     "text": [
      "-- Generation 0 --\n",
      "[{'0': {'name': 'Conv2D', 'args': {'FILTERS': 28, 'KERNEL_SIZE': [3, 3], 'INPUT_SIZE': [28, 28, 1]}}, '1': {'name': 'MaxPool2D', 'args': {'POOL_SIZE': [2, 2]}}, '2': {'name': 'Flatten'}, '3': {'name': 'Dense', 'args': {'UNITS': 128, 'ACTIVATION': 'relu'}}, '4': {'name': 'Dense', 'args': {'UNITS': 128, 'ACTIVATION': 'softmax'}}}, {'0': {'name': 'Conv2D', 'args': {'FILTERS': 28, 'KERNEL_SIZE': [3, 3], 'INPUT_SIZE': [28, 28, 1]}}, '1': {'name': 'MaxPool2D', 'args': {'POOL_SIZE': [2, 2]}}, '2': {'name': 'Flatten'}, '3': {'name': 'Dense', 'args': {'UNITS': 128, 'ACTIVATION': 'relu'}}, '4': {'name': 'Dropout', 'args': {'RATE': 0.2}}, '5': {'name': 'Dense', 'args': {'UNITS': 128, 'ACTIVATION': 'softmax'}}}, {'0': {'name': 'Conv2D', 'args': {'FILTERS': 12, 'KERNEL_SIZE': [3, 3], 'INPUT_SIZE': [28, 28, 1]}}, '1': {'name': 'MaxPool2D', 'args': {'POOL_SIZE': [4, 4]}}, '2': {'name': 'Flatten'}, '3': {'name': 'Dense', 'args': {'UNITS': 128, 'ACTIVATION': 'relu'}}, '4': {'name': 'Dropout', 'args': {'RATE': 0.2}}, '5': {'name': 'Dense', 'args': {'UNITS': 128, 'ACTIVATION': 'softmax'}}}, {'0': {'name': 'Conv2D', 'args': {'FILTERS': 12, 'KERNEL_SIZE': [3, 3], 'STRIDES': [2, 2], 'INPUT_SIZE': [28, 28, 1]}}, '1': {'name': 'Reshape', 'args': {'TARGET_SHAPE': [13, 13, 12, 1]}}, '2': {'name': 'MaxPool3D', 'args': {'POOL_SIZE': [6, 3, 3]}}, '3': {'name': 'Flatten'}, '4': {'name': 'Dense', 'args': {'UNITS': 128, 'ACTIVATION': 'softmax'}}}]\n",
      "600/600 [==============================] - 20s 33ms/step - loss: 0.3427 - accuracy: 0.9057\n",
      "313/313 [==============================] - 2s 5ms/step - loss: 0.1478 - accuracy: 0.9598\n",
      "600/600 [==============================] - 20s 33ms/step - loss: 0.3439 - accuracy: 0.9038\n",
      "313/313 [==============================] - 2s 5ms/step - loss: 0.1154 - accuracy: 0.9651\n",
      "600/600 [==============================] - 12s 20ms/step - loss: 0.5828 - accuracy: 0.8347\n",
      "313/313 [==============================] - 1s 4ms/step - loss: 0.1772 - accuracy: 0.9497\n",
      "600/600 [==============================] - 17s 29ms/step - loss: 2.1285 - accuracy: 0.3312\n",
      "313/313 [==============================] - 1s 3ms/step - loss: 1.5875 - accuracy: 0.4674\n",
      "[(0.14783546328544617, 622616), (0.11543796211481094, 622616), (0.17715772986412048, 72056), (1.5875320434570312, 4344)]\n",
      "  Evaluated 4 individuals\n",
      "  Min 0.1404014676809311\n",
      "  Max 1.5802712440490723\n",
      "  Avg 0.5021787136793137\n",
      "  Std 0.6224413040989522\n",
      "-- Generation 1 --\n",
      "[{'0': {'name': 'Conv2D', 'args': {'FILTERS': 28, 'KERNEL_SIZE': [3, 3], 'INPUT_SIZE': [28, 28, 1]}}, '1': {'name': 'MaxPool2D', 'args': {'POOL_SIZE': [2, 2]}}, '2': {'name': 'Flatten'}, '3': {'name': 'Dense', 'args': {'UNITS': 128, 'ACTIVATION': 'relu'}}, '4': {'name': 'Dense', 'args': {'UNITS': 128, 'ACTIVATION': 'softmax'}}}, {'0': {'name': 'Conv2D', 'args': {'FILTERS': 28, 'KERNEL_SIZE': [3, 3], 'INPUT_SIZE': [28, 28, 1]}}, '1': {'name': 'MaxPool2D', 'args': {'POOL_SIZE': [2, 2]}}, '2': {'name': 'Flatten'}, '3': {'name': 'Dense', 'args': {'UNITS': 128, 'ACTIVATION': 'relu'}}, '4': {'name': 'Dropout', 'args': {'RATE': 0.2}}, '5': {'name': 'Dense', 'args': {'UNITS': 128, 'ACTIVATION': 'softmax'}}}, {'0': {'name': 'Conv2D', 'args': {'FILTERS': 12, 'KERNEL_SIZE': [3, 3], 'INPUT_SIZE': [28, 28, 1]}}, '1': {'name': 'MaxPool2D', 'args': {'POOL_SIZE': [4, 4]}}, '2': {'name': 'Flatten'}, '3': {'name': 'Dense', 'args': {'UNITS': 128, 'ACTIVATION': 'relu'}}, '4': {'name': 'Dropout', 'args': {'RATE': 0.2}}, '5': {'name': 'Dense', 'args': {'UNITS': 128, 'ACTIVATION': 'softmax'}}}, {'0': {'name': 'Conv2D', 'args': {'FILTERS': 12, 'KERNEL_SIZE': [3, 3], 'STRIDES': [2, 2], 'INPUT_SIZE': [28, 28, 1]}}, '1': {'name': 'Reshape', 'args': {'TARGET_SHAPE': [13, 13, 12, 1]}}, '2': {'name': 'MaxPool3D', 'args': {'POOL_SIZE': [6, 3, 3]}}, '3': {'name': 'Flatten'}, '4': {'name': 'Dense', 'args': {'UNITS': 128, 'ACTIVATION': 'softmax'}}}]\n",
      "600/600 [==============================] - 20s 33ms/step - loss: 0.3200 - accuracy: 0.9149\n",
      "313/313 [==============================] - 2s 5ms/step - loss: 0.1293 - accuracy: 0.9627\n",
      "600/600 [==============================] - 20s 33ms/step - loss: 0.3491 - accuracy: 0.8999\n",
      "313/313 [==============================] - 2s 5ms/step - loss: 0.1304 - accuracy: 0.9597\n",
      "600/600 [==============================] - 12s 20ms/step - loss: 0.5844 - accuracy: 0.8313\n",
      "313/313 [==============================] - 1s 5ms/step - loss: 0.1825 - accuracy: 0.9471\n",
      "600/600 [==============================] - 17s 28ms/step - loss: 2.0994 - accuracy: 0.3539\n",
      "313/313 [==============================] - 1s 3ms/step - loss: 1.5584 - accuracy: 0.4831\n",
      "[(0.1293480396270752, 622616), (0.13037392497062683, 622616), (0.1825033575296402, 72056), (1.5584228038787842, 4344)]\n",
      "  Evaluated 4 individuals\n",
      "  Min 0.1404014676809311\n",
      "  Max 1.5802712440490723\n",
      "  Avg 0.5021787136793137\n",
      "  Std 0.6224413040989522\n",
      "-- Generation 2 --\n",
      "[{'0': {'name': 'Conv2D', 'args': {'FILTERS': 28, 'KERNEL_SIZE': [3, 3], 'INPUT_SIZE': [28, 28, 1]}}, '1': {'name': 'MaxPool2D', 'args': {'POOL_SIZE': [2, 2]}}, '2': {'name': 'Flatten'}, '3': {'name': 'Dense', 'args': {'UNITS': 128, 'ACTIVATION': 'relu'}}, '4': {'name': 'Dense', 'args': {'UNITS': 128, 'ACTIVATION': 'softmax'}}}, {'0': {'name': 'Conv2D', 'args': {'FILTERS': 28, 'KERNEL_SIZE': [3, 3], 'INPUT_SIZE': [28, 28, 1]}}, '1': {'name': 'MaxPool2D', 'args': {'POOL_SIZE': [2, 2]}}, '2': {'name': 'Flatten'}, '3': {'name': 'Dense', 'args': {'UNITS': 128, 'ACTIVATION': 'relu'}}, '4': {'name': 'Dropout', 'args': {'RATE': 0.2}}, '5': {'name': 'Dense', 'args': {'UNITS': 128, 'ACTIVATION': 'softmax'}}}, {'0': {'name': 'Conv2D', 'args': {'FILTERS': 12, 'KERNEL_SIZE': [3, 3], 'INPUT_SIZE': [28, 28, 1]}}, '1': {'name': 'MaxPool2D', 'args': {'POOL_SIZE': [4, 4]}}, '2': {'name': 'Flatten'}, '3': {'name': 'Dense', 'args': {'UNITS': 128, 'ACTIVATION': 'relu'}}, '4': {'name': 'Dropout', 'args': {'RATE': 0.2}}, '5': {'name': 'Dense', 'args': {'UNITS': 128, 'ACTIVATION': 'softmax'}}}, {'0': {'name': 'Conv2D', 'args': {'FILTERS': 12, 'KERNEL_SIZE': [3, 3], 'STRIDES': [2, 2], 'INPUT_SIZE': [28, 28, 1]}}, '1': {'name': 'Reshape', 'args': {'TARGET_SHAPE': [13, 13, 12, 1]}}, '2': {'name': 'MaxPool3D', 'args': {'POOL_SIZE': [6, 3, 3]}}, '3': {'name': 'Flatten'}, '4': {'name': 'Dense', 'args': {'UNITS': 128, 'ACTIVATION': 'softmax'}}}]\n",
      "600/600 [==============================] - 20s 33ms/step - loss: 0.3008 - accuracy: 0.9217\n",
      "313/313 [==============================] - 2s 6ms/step - loss: 0.1193 - accuracy: 0.9641\n",
      "600/600 [==============================] - 20s 33ms/step - loss: 0.3493 - accuracy: 0.8996\n",
      "313/313 [==============================] - 2s 6ms/step - loss: 0.1227 - accuracy: 0.9633\n",
      "600/600 [==============================] - 12s 20ms/step - loss: 0.6480 - accuracy: 0.8117\n",
      "313/313 [==============================] - 1s 4ms/step - loss: 0.2018 - accuracy: 0.9404\n",
      "600/600 [==============================] - 17s 29ms/step - loss: 2.1267 - accuracy: 0.3520\n",
      "313/313 [==============================] - 1s 3ms/step - loss: 1.5686 - accuracy: 0.4672\n",
      "[(0.11925043910741806, 622616), (0.12273940443992615, 622616), (0.20182771980762482, 72056), (1.5685701370239258, 4344)]\n",
      "  Evaluated 4 individuals\n",
      "  Min 0.1404014676809311\n",
      "  Max 1.5802712440490723\n",
      "  Avg 0.5021787136793137\n",
      "  Std 0.6224413040989522\n",
      "-- Generation 3 --\n",
      "[{'0': {'name': 'Conv2D', 'args': {'FILTERS': 28, 'KERNEL_SIZE': [3, 3], 'INPUT_SIZE': [28, 28, 1]}}, '1': {'name': 'MaxPool2D', 'args': {'POOL_SIZE': [2, 2]}}, '2': {'name': 'Flatten'}, '3': {'name': 'Dense', 'args': {'UNITS': 128, 'ACTIVATION': 'relu'}}, '4': {'name': 'Dense', 'args': {'UNITS': 128, 'ACTIVATION': 'softmax'}}}, {'0': {'name': 'Conv2D', 'args': {'FILTERS': 28, 'KERNEL_SIZE': [3, 3], 'INPUT_SIZE': [28, 28, 1]}}, '1': {'name': 'MaxPool2D', 'args': {'POOL_SIZE': [2, 2]}}, '2': {'name': 'Flatten'}, '3': {'name': 'Dense', 'args': {'UNITS': 128, 'ACTIVATION': 'relu'}}, '4': {'name': 'Dropout', 'args': {'RATE': 0.2}}, '5': {'name': 'Dense', 'args': {'UNITS': 128, 'ACTIVATION': 'softmax'}}}, {'0': {'name': 'Conv2D', 'args': {'FILTERS': 12, 'KERNEL_SIZE': [3, 3], 'INPUT_SIZE': [28, 28, 1]}}, '1': {'name': 'MaxPool2D', 'args': {'POOL_SIZE': [4, 4]}}, '2': {'name': 'Flatten'}, '3': {'name': 'Dense', 'args': {'UNITS': 128, 'ACTIVATION': 'relu'}}, '4': {'name': 'Dropout', 'args': {'RATE': 0.2}}, '5': {'name': 'Dense', 'args': {'UNITS': 128, 'ACTIVATION': 'softmax'}}}, {'0': {'name': 'Conv2D', 'args': {'FILTERS': 12, 'KERNEL_SIZE': [3, 3], 'STRIDES': [2, 2], 'INPUT_SIZE': [28, 28, 1]}}, '1': {'name': 'Reshape', 'args': {'TARGET_SHAPE': [13, 13, 12, 1]}}, '2': {'name': 'MaxPool3D', 'args': {'POOL_SIZE': [6, 3, 3]}}, '3': {'name': 'Flatten'}, '4': {'name': 'Dense', 'args': {'UNITS': 128, 'ACTIVATION': 'softmax'}}}]\n",
      "600/600 [==============================] - 20s 33ms/step - loss: 0.3237 - accuracy: 0.9116\n",
      "313/313 [==============================] - 2s 6ms/step - loss: 0.1506 - accuracy: 0.9552\n",
      "600/600 [==============================] - 20s 34ms/step - loss: 0.3694 - accuracy: 0.8965\n",
      "313/313 [==============================] - 2s 6ms/step - loss: 0.1363 - accuracy: 0.9587\n",
      "600/600 [==============================] - 12s 21ms/step - loss: 0.5918 - accuracy: 0.8318\n",
      "313/313 [==============================] - 2s 5ms/step - loss: 0.1545 - accuracy: 0.9536\n",
      "600/600 [==============================] - 18s 29ms/step - loss: 2.1866 - accuracy: 0.3207\n",
      "313/313 [==============================] - 1s 4ms/step - loss: 1.5900 - accuracy: 0.4664\n",
      "[(0.15059050917625427, 622616), (0.13628742098808289, 622616), (0.15448921918869019, 72056), (1.5900131464004517, 4344)]\n",
      "  Evaluated 4 individuals\n",
      "  Min 0.1404014676809311\n",
      "  Max 1.5802712440490723\n",
      "  Avg 0.5021787136793137\n",
      "  Std 0.6224413040989522\n",
      "-- Generation 4 --\n",
      "[{'0': {'name': 'Conv2D', 'args': {'FILTERS': 28, 'KERNEL_SIZE': [3, 3], 'INPUT_SIZE': [28, 28, 1]}}, '1': {'name': 'MaxPool2D', 'args': {'POOL_SIZE': [2, 2]}}, '2': {'name': 'Flatten'}, '3': {'name': 'Dense', 'args': {'UNITS': 128, 'ACTIVATION': 'relu'}}, '4': {'name': 'Dense', 'args': {'UNITS': 128, 'ACTIVATION': 'softmax'}}}, {'0': {'name': 'Conv2D', 'args': {'FILTERS': 28, 'KERNEL_SIZE': [3, 3], 'INPUT_SIZE': [28, 28, 1]}}, '1': {'name': 'MaxPool2D', 'args': {'POOL_SIZE': [2, 2]}}, '2': {'name': 'Flatten'}, '3': {'name': 'Dense', 'args': {'UNITS': 128, 'ACTIVATION': 'relu'}}, '4': {'name': 'Dropout', 'args': {'RATE': 0.2}}, '5': {'name': 'Dense', 'args': {'UNITS': 128, 'ACTIVATION': 'softmax'}}}, {'0': {'name': 'Conv2D', 'args': {'FILTERS': 12, 'KERNEL_SIZE': [3, 3], 'INPUT_SIZE': [28, 28, 1]}}, '1': {'name': 'MaxPool2D', 'args': {'POOL_SIZE': [4, 4]}}, '2': {'name': 'Flatten'}, '3': {'name': 'Dense', 'args': {'UNITS': 128, 'ACTIVATION': 'relu'}}, '4': {'name': 'Dropout', 'args': {'RATE': 0.2}}, '5': {'name': 'Dense', 'args': {'UNITS': 128, 'ACTIVATION': 'softmax'}}}, {'0': {'name': 'Conv2D', 'args': {'FILTERS': 12, 'KERNEL_SIZE': [3, 3], 'STRIDES': [2, 2], 'INPUT_SIZE': [28, 28, 1]}}, '1': {'name': 'Reshape', 'args': {'TARGET_SHAPE': [13, 13, 12, 1]}}, '2': {'name': 'MaxPool3D', 'args': {'POOL_SIZE': [6, 3, 3]}}, '3': {'name': 'Flatten'}, '4': {'name': 'Dense', 'args': {'UNITS': 128, 'ACTIVATION': 'softmax'}}}]\n",
      "600/600 [==============================] - 21s 34ms/step - loss: 0.3553 - accuracy: 0.9023\n",
      "313/313 [==============================] - 2s 6ms/step - loss: 0.1557 - accuracy: 0.9558\n",
      "600/600 [==============================] - 21s 35ms/step - loss: 0.3585 - accuracy: 0.8971\n",
      "313/313 [==============================] - 2s 6ms/step - loss: 0.1272 - accuracy: 0.9608\n",
      "600/600 [==============================] - 13s 22ms/step - loss: 0.5581 - accuracy: 0.8446\n",
      "313/313 [==============================] - 1s 4ms/step - loss: 0.1547 - accuracy: 0.9550\n",
      "600/600 [==============================] - 17s 29ms/step - loss: 2.1089 - accuracy: 0.3561\n",
      "313/313 [==============================] - 1s 3ms/step - loss: 1.5551 - accuracy: 0.4757\n",
      "[(0.15567757189273834, 622616), (0.12718084454536438, 622616), (0.1547107845544815, 72056), (1.555051326751709, 4344)]\n",
      "  Evaluated 4 individuals\n",
      "  Min 0.1404014676809311\n",
      "  Max 1.5802712440490723\n",
      "  Avg 0.5021787136793137\n",
      "  Std 0.6224413040989522\n",
      "-- Generation 5 --\n",
      "[{'0': {'name': 'Conv2D', 'args': {'FILTERS': 28, 'KERNEL_SIZE': [3, 3], 'INPUT_SIZE': [28, 28, 1]}}, '1': {'name': 'MaxPool2D', 'args': {'POOL_SIZE': [2, 2]}}, '2': {'name': 'Flatten'}, '3': {'name': 'Dense', 'args': {'UNITS': 128, 'ACTIVATION': 'relu'}}, '4': {'name': 'Dense', 'args': {'UNITS': 128, 'ACTIVATION': 'softmax'}}}, {'0': {'name': 'Conv2D', 'args': {'FILTERS': 28, 'KERNEL_SIZE': [3, 3], 'INPUT_SIZE': [28, 28, 1]}}, '1': {'name': 'MaxPool2D', 'args': {'POOL_SIZE': [2, 2]}}, '2': {'name': 'Flatten'}, '3': {'name': 'Dense', 'args': {'UNITS': 128, 'ACTIVATION': 'relu'}}, '4': {'name': 'Dropout', 'args': {'RATE': 0.2}}, '5': {'name': 'Dense', 'args': {'UNITS': 128, 'ACTIVATION': 'softmax'}}}, {'0': {'name': 'Conv2D', 'args': {'FILTERS': 12, 'KERNEL_SIZE': [3, 3], 'INPUT_SIZE': [28, 28, 1]}}, '1': {'name': 'MaxPool2D', 'args': {'POOL_SIZE': [4, 4]}}, '2': {'name': 'Flatten'}, '3': {'name': 'Dense', 'args': {'UNITS': 128, 'ACTIVATION': 'relu'}}, '4': {'name': 'Dropout', 'args': {'RATE': 0.2}}, '5': {'name': 'Dense', 'args': {'UNITS': 128, 'ACTIVATION': 'softmax'}}}, {'0': {'name': 'Conv2D', 'args': {'FILTERS': 12, 'KERNEL_SIZE': [3, 3], 'STRIDES': [2, 2], 'INPUT_SIZE': [28, 28, 1]}}, '1': {'name': 'Reshape', 'args': {'TARGET_SHAPE': [13, 13, 12, 1]}}, '2': {'name': 'MaxPool3D', 'args': {'POOL_SIZE': [6, 3, 3]}}, '3': {'name': 'Flatten'}, '4': {'name': 'Dense', 'args': {'UNITS': 128, 'ACTIVATION': 'softmax'}}}]\n",
      "600/600 [==============================] - 20s 33ms/step - loss: 0.3261 - accuracy: 0.9108\n",
      "313/313 [==============================] - 2s 5ms/step - loss: 0.1363 - accuracy: 0.9598\n",
      "600/600 [==============================] - 20s 34ms/step - loss: 0.3490 - accuracy: 0.9009\n",
      "313/313 [==============================] - 2s 5ms/step - loss: 0.1299 - accuracy: 0.9597\n",
      "600/600 [==============================] - 12s 20ms/step - loss: 0.6430 - accuracy: 0.8088\n",
      "313/313 [==============================] - 1s 5ms/step - loss: 0.1880 - accuracy: 0.9446\n",
      "600/600 [==============================] - 17s 29ms/step - loss: 2.1434 - accuracy: 0.3449\n",
      "313/313 [==============================] - 1s 4ms/step - loss: 1.5675 - accuracy: 0.4760\n",
      "[(0.1363345831632614, 622616), (0.12989769876003265, 622616), (0.1880418211221695, 72056), (1.5675129890441895, 4344)]\n",
      "  Evaluated 4 individuals\n",
      "  Min 0.1404014676809311\n",
      "  Max 1.5802712440490723\n",
      "  Avg 0.5021787136793137\n",
      "  Std 0.6224413040989522\n",
      "-- Generation 6 --\n",
      "[{'0': {'name': 'Conv2D', 'args': {'FILTERS': 28, 'KERNEL_SIZE': [3, 3], 'INPUT_SIZE': [28, 28, 1]}}, '1': {'name': 'MaxPool2D', 'args': {'POOL_SIZE': [2, 2]}}, '2': {'name': 'Flatten'}, '3': {'name': 'Dense', 'args': {'UNITS': 128, 'ACTIVATION': 'relu'}}, '4': {'name': 'Dense', 'args': {'UNITS': 128, 'ACTIVATION': 'softmax'}}}, {'0': {'name': 'Conv2D', 'args': {'FILTERS': 28, 'KERNEL_SIZE': [3, 3], 'INPUT_SIZE': [28, 28, 1]}}, '1': {'name': 'MaxPool2D', 'args': {'POOL_SIZE': [2, 2]}}, '2': {'name': 'Flatten'}, '3': {'name': 'Dense', 'args': {'UNITS': 128, 'ACTIVATION': 'relu'}}, '4': {'name': 'Dropout', 'args': {'RATE': 0.2}}, '5': {'name': 'Dense', 'args': {'UNITS': 128, 'ACTIVATION': 'softmax'}}}, {'0': {'name': 'Conv2D', 'args': {'FILTERS': 12, 'KERNEL_SIZE': [3, 3], 'INPUT_SIZE': [28, 28, 1]}}, '1': {'name': 'MaxPool2D', 'args': {'POOL_SIZE': [4, 4]}}, '2': {'name': 'Flatten'}, '3': {'name': 'Dense', 'args': {'UNITS': 128, 'ACTIVATION': 'relu'}}, '4': {'name': 'Dropout', 'args': {'RATE': 0.2}}, '5': {'name': 'Dense', 'args': {'UNITS': 128, 'ACTIVATION': 'softmax'}}}, {'0': {'name': 'Conv2D', 'args': {'FILTERS': 12, 'KERNEL_SIZE': [3, 3], 'STRIDES': [2, 2], 'INPUT_SIZE': [28, 28, 1]}}, '1': {'name': 'Reshape', 'args': {'TARGET_SHAPE': [13, 13, 12, 1]}}, '2': {'name': 'MaxPool3D', 'args': {'POOL_SIZE': [6, 3, 3]}}, '3': {'name': 'Flatten'}, '4': {'name': 'Dense', 'args': {'UNITS': 128, 'ACTIVATION': 'softmax'}}}]\n",
      "600/600 [==============================] - 20s 34ms/step - loss: 0.3272 - accuracy: 0.9106\n",
      "313/313 [==============================] - 2s 6ms/step - loss: 0.1302 - accuracy: 0.9616\n",
      "600/600 [==============================] - 20s 34ms/step - loss: 0.3530 - accuracy: 0.9014\n",
      "313/313 [==============================] - 2s 5ms/step - loss: 0.1283 - accuracy: 0.9638\n",
      "600/600 [==============================] - 12s 20ms/step - loss: 0.5891 - accuracy: 0.8289\n",
      "313/313 [==============================] - 1s 4ms/step - loss: 0.1764 - accuracy: 0.9466\n",
      "600/600 [==============================] - 17s 29ms/step - loss: 2.1935 - accuracy: 0.3465\n",
      "313/313 [==============================] - 1s 4ms/step - loss: 1.5769 - accuracy: 0.4856\n",
      "[(0.1302269697189331, 622616), (0.1282721310853958, 622616), (0.17640677094459534, 72056), (1.5768554210662842, 4344)]\n",
      "  Evaluated 4 individuals\n",
      "  Min 0.1404014676809311\n",
      "  Max 1.5802712440490723\n",
      "  Avg 0.5021787136793137\n",
      "  Std 0.6224413040989522\n",
      "-- Generation 7 --\n",
      "[{'0': {'name': 'Conv2D', 'args': {'FILTERS': 28, 'KERNEL_SIZE': [3, 3], 'INPUT_SIZE': [28, 28, 1]}}, '1': {'name': 'MaxPool2D', 'args': {'POOL_SIZE': [2, 2]}}, '2': {'name': 'Flatten'}, '3': {'name': 'Dense', 'args': {'UNITS': 128, 'ACTIVATION': 'relu'}}, '4': {'name': 'Dense', 'args': {'UNITS': 128, 'ACTIVATION': 'softmax'}}}, {'0': {'name': 'Conv2D', 'args': {'FILTERS': 28, 'KERNEL_SIZE': [3, 3], 'INPUT_SIZE': [28, 28, 1]}}, '1': {'name': 'MaxPool2D', 'args': {'POOL_SIZE': [2, 2]}}, '2': {'name': 'Flatten'}, '3': {'name': 'Dense', 'args': {'UNITS': 128, 'ACTIVATION': 'relu'}}, '4': {'name': 'Dropout', 'args': {'RATE': 0.2}}, '5': {'name': 'Dense', 'args': {'UNITS': 128, 'ACTIVATION': 'softmax'}}}, {'0': {'name': 'Conv2D', 'args': {'FILTERS': 12, 'KERNEL_SIZE': [3, 3], 'INPUT_SIZE': [28, 28, 1]}}, '1': {'name': 'MaxPool2D', 'args': {'POOL_SIZE': [4, 4]}}, '2': {'name': 'Flatten'}, '3': {'name': 'Dense', 'args': {'UNITS': 128, 'ACTIVATION': 'relu'}}, '4': {'name': 'Dropout', 'args': {'RATE': 0.2}}, '5': {'name': 'Dense', 'args': {'UNITS': 128, 'ACTIVATION': 'softmax'}}}, {'0': {'name': 'Conv2D', 'args': {'FILTERS': 12, 'KERNEL_SIZE': [3, 3], 'STRIDES': [2, 2], 'INPUT_SIZE': [28, 28, 1]}}, '1': {'name': 'Reshape', 'args': {'TARGET_SHAPE': [13, 13, 12, 1]}}, '2': {'name': 'MaxPool3D', 'args': {'POOL_SIZE': [6, 3, 3]}}, '3': {'name': 'Flatten'}, '4': {'name': 'Dense', 'args': {'UNITS': 128, 'ACTIVATION': 'softmax'}}}]\n",
      "600/600 [==============================] - 20s 34ms/step - loss: 0.3296 - accuracy: 0.9131\n",
      "313/313 [==============================] - 2s 6ms/step - loss: 0.1499 - accuracy: 0.9549\n",
      "600/600 [==============================] - 20s 33ms/step - loss: 0.3647 - accuracy: 0.8986\n",
      "313/313 [==============================] - 2s 6ms/step - loss: 0.1324 - accuracy: 0.9605\n",
      "600/600 [==============================] - 12s 21ms/step - loss: 0.6012 - accuracy: 0.8267\n",
      "313/313 [==============================] - 1s 5ms/step - loss: 0.1767 - accuracy: 0.9490\n",
      "600/600 [==============================] - 17s 29ms/step - loss: 2.1762 - accuracy: 0.3226\n",
      "313/313 [==============================] - 1s 3ms/step - loss: 1.6078 - accuracy: 0.4625\n",
      "[(0.1499122530221939, 622616), (0.13241399824619293, 622616), (0.1766636073589325, 72056), (1.6077942848205566, 4344)]\n",
      "  Evaluated 4 individuals\n",
      "  Min 0.1404014676809311\n",
      "  Max 1.5802712440490723\n",
      "  Avg 0.5021787136793137\n",
      "  Std 0.6224413040989522\n",
      "-- Generation 8 --\n",
      "[{'0': {'name': 'Conv2D', 'args': {'FILTERS': 28, 'KERNEL_SIZE': [3, 3], 'INPUT_SIZE': [28, 28, 1]}}, '1': {'name': 'MaxPool2D', 'args': {'POOL_SIZE': [2, 2]}}, '2': {'name': 'Flatten'}, '3': {'name': 'Dense', 'args': {'UNITS': 128, 'ACTIVATION': 'relu'}}, '4': {'name': 'Dense', 'args': {'UNITS': 128, 'ACTIVATION': 'softmax'}}}, {'0': {'name': 'Conv2D', 'args': {'FILTERS': 28, 'KERNEL_SIZE': [3, 3], 'INPUT_SIZE': [28, 28, 1]}}, '1': {'name': 'MaxPool2D', 'args': {'POOL_SIZE': [2, 2]}}, '2': {'name': 'Flatten'}, '3': {'name': 'Dense', 'args': {'UNITS': 128, 'ACTIVATION': 'relu'}}, '4': {'name': 'Dropout', 'args': {'RATE': 0.2}}, '5': {'name': 'Dense', 'args': {'UNITS': 128, 'ACTIVATION': 'softmax'}}}, {'0': {'name': 'Conv2D', 'args': {'FILTERS': 12, 'KERNEL_SIZE': [3, 3], 'INPUT_SIZE': [28, 28, 1]}}, '1': {'name': 'MaxPool2D', 'args': {'POOL_SIZE': [4, 4]}}, '2': {'name': 'Flatten'}, '3': {'name': 'Dense', 'args': {'UNITS': 128, 'ACTIVATION': 'relu'}}, '4': {'name': 'Dropout', 'args': {'RATE': 0.2}}, '5': {'name': 'Dense', 'args': {'UNITS': 128, 'ACTIVATION': 'softmax'}}}, {'0': {'name': 'Conv2D', 'args': {'FILTERS': 12, 'KERNEL_SIZE': [3, 3], 'STRIDES': [2, 2], 'INPUT_SIZE': [28, 28, 1]}}, '1': {'name': 'Reshape', 'args': {'TARGET_SHAPE': [13, 13, 12, 1]}}, '2': {'name': 'MaxPool3D', 'args': {'POOL_SIZE': [6, 3, 3]}}, '3': {'name': 'Flatten'}, '4': {'name': 'Dense', 'args': {'UNITS': 128, 'ACTIVATION': 'softmax'}}}]\n",
      "600/600 [==============================] - 20s 33ms/step - loss: 0.3213 - accuracy: 0.9142\n",
      "313/313 [==============================] - 2s 5ms/step - loss: 0.1346 - accuracy: 0.9624\n",
      "600/600 [==============================] - 20s 33ms/step - loss: 0.3745 - accuracy: 0.8924\n",
      "313/313 [==============================] - 2s 5ms/step - loss: 0.1340 - accuracy: 0.9599\n",
      "600/600 [==============================] - 13s 21ms/step - loss: 0.6031 - accuracy: 0.8217\n",
      "313/313 [==============================] - 1s 5ms/step - loss: 0.1834 - accuracy: 0.9461\n",
      "600/600 [==============================] - 18s 30ms/step - loss: 2.0996 - accuracy: 0.3498\n",
      "313/313 [==============================] - 1s 4ms/step - loss: 1.5819 - accuracy: 0.4515\n",
      "[(0.13457448780536652, 622616), (0.1339857429265976, 622616), (0.18344636261463165, 72056), (1.5818711519241333, 4344)]\n",
      "  Evaluated 4 individuals\n",
      "  Min 0.1404014676809311\n",
      "  Max 1.5802712440490723\n",
      "  Avg 0.5021787136793137\n",
      "  Std 0.6224413040989522\n",
      "-- Generation 9 --\n",
      "[{'0': {'name': 'Conv2D', 'args': {'FILTERS': 28, 'KERNEL_SIZE': [3, 3], 'INPUT_SIZE': [28, 28, 1]}}, '1': {'name': 'MaxPool2D', 'args': {'POOL_SIZE': [2, 2]}}, '2': {'name': 'Flatten'}, '3': {'name': 'Dense', 'args': {'UNITS': 128, 'ACTIVATION': 'relu'}}, '4': {'name': 'Dense', 'args': {'UNITS': 128, 'ACTIVATION': 'softmax'}}}, {'0': {'name': 'Conv2D', 'args': {'FILTERS': 28, 'KERNEL_SIZE': [3, 3], 'INPUT_SIZE': [28, 28, 1]}}, '1': {'name': 'MaxPool2D', 'args': {'POOL_SIZE': [2, 2]}}, '2': {'name': 'Flatten'}, '3': {'name': 'Dense', 'args': {'UNITS': 128, 'ACTIVATION': 'relu'}}, '4': {'name': 'Dropout', 'args': {'RATE': 0.2}}, '5': {'name': 'Dense', 'args': {'UNITS': 128, 'ACTIVATION': 'softmax'}}}, {'0': {'name': 'Conv2D', 'args': {'FILTERS': 12, 'KERNEL_SIZE': [3, 3], 'INPUT_SIZE': [28, 28, 1]}}, '1': {'name': 'MaxPool2D', 'args': {'POOL_SIZE': [4, 4]}}, '2': {'name': 'Flatten'}, '3': {'name': 'Dense', 'args': {'UNITS': 128, 'ACTIVATION': 'relu'}}, '4': {'name': 'Dropout', 'args': {'RATE': 0.2}}, '5': {'name': 'Dense', 'args': {'UNITS': 128, 'ACTIVATION': 'softmax'}}}, {'0': {'name': 'Conv2D', 'args': {'FILTERS': 12, 'KERNEL_SIZE': [3, 3], 'STRIDES': [2, 2], 'INPUT_SIZE': [28, 28, 1]}}, '1': {'name': 'Reshape', 'args': {'TARGET_SHAPE': [13, 13, 12, 1]}}, '2': {'name': 'MaxPool3D', 'args': {'POOL_SIZE': [6, 3, 3]}}, '3': {'name': 'Flatten'}, '4': {'name': 'Dense', 'args': {'UNITS': 128, 'ACTIVATION': 'softmax'}}}]\n",
      "600/600 [==============================] - 21s 35ms/step - loss: 0.3336 - accuracy: 0.9087\n",
      "313/313 [==============================] - 2s 6ms/step - loss: 0.1412 - accuracy: 0.9615\n",
      "600/600 [==============================] - 21s 36ms/step - loss: 0.3485 - accuracy: 0.9029\n",
      "313/313 [==============================] - 2s 6ms/step - loss: 0.1106 - accuracy: 0.9676\n",
      "600/600 [==============================] - 13s 21ms/step - loss: 0.5676 - accuracy: 0.8350\n",
      "313/313 [==============================] - 2s 5ms/step - loss: 0.1605 - accuracy: 0.9546\n",
      "600/600 [==============================] - 18s 30ms/step - loss: 2.1290 - accuracy: 0.3388\n",
      "313/313 [==============================] - 1s 4ms/step - loss: 1.5733 - accuracy: 0.4701\n",
      "[(0.14123274385929108, 622616), (0.11062777042388916, 622616), (0.16053757071495056, 72056), (1.5732613801956177, 4344)]\n",
      "  Evaluated 4 individuals\n",
      "  Min 0.1404014676809311\n",
      "  Max 1.5802712440490723\n",
      "  Avg 0.5021787136793137\n",
      "  Std 0.6224413040989522\n"
     ]
    }
   ],
   "source": [
    "# # begin the evolution\n",
    "# # random.seed(64)\n",
    "\n",
    "# # instantiate a population\n",
    "# CXPB, MUTPB, NGEN = 0.0, 0.0, 10\n",
    "# for g in range(NGEN):\n",
    "#     print(\"-- Generation %i --\" % g)\n",
    "\n",
    "#     # select the next generation individuals\n",
    "#     offspring = toolbox.select(population, len(population))\n",
    "#     print(offspring)\n",
    "#     # clone the selected individuals\n",
    "#     offspring = list(map(toolbox.clone, offspring))\n",
    "\n",
    "#     # # apply crossover and mutation on the offspring\n",
    "#     # for child1, child2 in zip(offspring[::2], offspring[1::2]):\n",
    "#     #     if random.random() < CXPB:\n",
    "#     #         toolbox.mate(child1, child2)\n",
    "#     #         del child1.fitness.values\n",
    "#     #         del child2.fitness.values\n",
    "\n",
    "#     # for mutant in offspring:\n",
    "#     #     if random.random() < MUTPB:\n",
    "#     #         toolbox.mutate(mutant)\n",
    "#     #         del mutant.fitness.values\n",
    "\n",
    "#     # evaluate the individuals with an invalid fitness\n",
    "#     invalid_ind = [ind for ind in offspring if not ind.fitness.valid]\n",
    "#     # fitnesses = map(toolbox.evaluate, invalid_ind)\n",
    "#     # for ind, fit in zip(invalid_ind, fitnesses):\n",
    "#     #     ind.fitness.values = fit\n",
    "\n",
    "#     # print(\"  Evaluated %i individuals\" % len(invalid_ind))\n",
    "\n",
    "#     # evaluate the entire population\n",
    "#     fitnesses = list(map(toolbox.evaluate, population))\n",
    "#     print(fitnesses)\n",
    "#     for ind, fit in zip(population, fitnesses):\n",
    "#       ind.fitness.values = fit\n",
    "\n",
    "#     print(\"  Evaluated %i individuals\" % len(population))\n",
    "\n",
    "#     # the population is entirely replaced by the offspring\n",
    "#     population[:] = offspring\n",
    "\n",
    "#     # gather all the fitnesses in one list and print the stats\n",
    "#     fits = [ind.fitness.values[0] for ind in population]\n",
    "\n",
    "#     length = len(population)\n",
    "#     mean = sum(fits) / length\n",
    "#     sum2 = sum(x*x for x in fits)\n",
    "#     std = abs(sum2 / length - mean**2)**0.5\n",
    "#  #As there is no mating, the population doesn't improve\n",
    "#     print(\"  Min %s\" % min(fits))\n",
    "#     print(\"  Max %s\" % max(fits))\n",
    "#     print(\"  Avg %s\" % mean)\n",
    "#     print(\"  Std %s\" % std)"
   ]
  },
  {
   "cell_type": "code",
   "execution_count": 179,
   "metadata": {
    "colab": {},
    "colab_type": "code",
    "id": "DOx7IAc15xrE"
   },
   "outputs": [],
   "source": [
    "# best_ind = tools.selBest(population, 1)[0]\n",
    "# print(\"Best individual is %s, %s\" % (best_ind, best_ind.fitness.values))"
   ]
  },
  {
   "cell_type": "code",
   "execution_count": null,
   "metadata": {
    "colab": {},
    "colab_type": "code",
    "id": "jdxlMTZvbaU8"
   },
   "outputs": [],
   "source": [
    "# get model configuration params from our json file\n",
    "# import json \n",
    "# with open('Model_Configuration.json') as example_data:\n",
    "#     data = json.load(example_data)\n",
    "# print(data['layer1']['layer1_name'])\n",
    "# int(data['layer1']['param1'])\n"
   ]
  },
  {
   "cell_type": "code",
   "execution_count": null,
   "metadata": {
    "colab": {},
    "colab_type": "code",
    "id": "k-2aWbOirRCy"
   },
   "outputs": [],
   "source": [
    "#layer types and shapes changed in each model\n",
    "\n",
    "#import tensorflow_model_optimization as tfmot\n",
    "\n",
    "#quantize_model = tfmot.quantization.keras.quantize_model\n",
    "# model = keras.Sequential()\n",
    "\n",
    "# if (data[count]['layer1']['layer1_name']=='Conv2D'):\n",
    "#     model.add(keras.layers.Conv2D(int(data[count]['layer1']['param1']), kernel_size=(int(data[count]['layer1']['param2']),int(data[count]['layer1']['param3'])), input_shape=input_tensor_shape))\n",
    "# if (data[count]['layer2']['layer2_name']=='Maxpool'):\n",
    "#     model.add(keras.layers.MaxPooling2D(pool_size=(int(data[count]['layer2']['param1']),int(data[count]['layer2']['param2']))))         \n",
    "# model.add(keras.layers.Flatten()) # Flattening the 2D arrays for fully connected layers\n",
    "# model.add(keras.layers.Dense(128, activation=tf.nn.relu))\n",
    "# model.add(keras.layers.Dropout(0.2))\n",
    "# model.add(keras.layers.Dense(10,activation=tf.nn.softmax))\n",
    "\n",
    "\n",
    "#quantized_model5 = quantize_model(model5)"
   ]
  },
  {
   "cell_type": "code",
   "execution_count": null,
   "metadata": {
    "colab": {},
    "colab_type": "code",
    "id": "RXWfgL0LxS3o"
   },
   "outputs": [],
   "source": [
    "# model.compile(optimizer='adam', loss='sparse_categorical_crossentropy', metrics=['accuracy'])\n",
    "\n",
    "# #quantized_model5.compile(optimizer='adam',\n",
    "#               #loss='sparse_categorical_crossentropy',\n",
    "#               #metrics=['accuracy'])\n",
    "\n",
    "# batch_size = 100\n",
    "# epochs = 10\n",
    "\n",
    "# print(\"Model 1\")\n",
    "# history = model.fit(x=images_train,y=labels_train, epochs=epochs, batch_size=batch_size)\n",
    "# model.summary()\n",
    "\n",
    "\n"
   ]
  },
  {
   "cell_type": "markdown",
   "metadata": {
    "colab_type": "text",
    "id": "fNtcEcKuxgYb"
   },
   "source": [
    "Now we can evaluate our trained model using the test data"
   ]
  },
  {
   "cell_type": "markdown",
   "metadata": {
    "colab_type": "text",
    "id": "1NrlEuWbR3hU"
   },
   "source": [
    "Writing our final results back to our JSON file"
   ]
  },
  {
   "cell_type": "code",
   "execution_count": null,
   "metadata": {
    "colab": {},
    "colab_type": "code",
    "id": "nBycYjsqR3hX"
   },
   "outputs": [],
   "source": [
    "#Appending procedure JSON\n",
    "# import os\n",
    "# a = []\n",
    "# write_json(result, \"test_result\")\n",
    "# if not os.path.isfile(\"/Users/priyadalal/Desktop/result.json\"):\n",
    "#     a.append(result)\n",
    "#     with open(\"/Users/priyadalal/Desktop/result.json\", mode='w') as f:\n",
    "#         f.write(json.dumps(a, indent=2))\n",
    "# else:\n",
    "#     with open(\"/Users/priyadalal/Desktop/result.json\") as feedsjson:\n",
    "#         feeds = json.load(feedsjson)\n",
    "\n",
    "#     feeds.append(result)\n",
    "#     with open(\"/Users/priyadalal/Desktop/result.json\", mode='w') as f:\n",
    "#         f.write(json.dumps(feeds, indent=2))"
   ]
  },
  {
   "cell_type": "code",
   "execution_count": 178,
   "metadata": {
    "colab": {},
    "colab_type": "code",
    "id": "eEjsGW18R3he"
   },
   "outputs": [],
   "source": [
    "#Updating our counter on completing the Iteration \n",
    "#count=count+1"
   ]
  }
 ],
 "metadata": {
  "colab": {
   "collapsed_sections": [],
   "name": "Copy_of_MNIST_NAS (5).ipynb",
   "provenance": [],
   "toc_visible": true
  },
  "kernelspec": {
   "display_name": "Python 3",
   "language": "python",
   "name": "python3"
  },
  "language_info": {
   "codemirror_mode": {
    "name": "ipython",
    "version": 3
   },
   "file_extension": ".py",
   "mimetype": "text/x-python",
   "name": "python",
   "nbconvert_exporter": "python",
   "pygments_lexer": "ipython3",
   "version": "3.8.3"
  }
 },
 "nbformat": 4,
 "nbformat_minor": 1
}
