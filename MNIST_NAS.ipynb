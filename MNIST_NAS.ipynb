{
 "cells": [
  {
   "cell_type": "markdown",
   "metadata": {
    "colab_type": "text",
    "id": "view-in-github"
   },
   "source": [
    "<a href=\"https://colab.research.google.com/github/piyadalal/Optimization_Using_Evolutionary_Algorithms/blob/priya/MNIST_NAS.ipynb\" target=\"_parent\"><img src=\"https://colab.research.google.com/assets/colab-badge.svg\" alt=\"Open In Colab\"/></a>"
   ]
  },
  {
   "cell_type": "markdown",
   "metadata": {
    "colab_type": "text",
    "id": "d_q-FH0dgMQq"
   },
   "source": [
    "This example will perform character recognition through user input into the touch screen of an STM3240G-Evaluation board using the MNIST dataset."
   ]
  },
  {
   "cell_type": "code",
   "execution_count": 1,
   "metadata": {
    "colab": {
     "base_uri": "https://localhost:8080/",
     "height": 71
    },
    "colab_type": "code",
    "id": "RcNx6RbVg3cc",
    "outputId": "93d65f20-ad43-44f5-9d38-39d54bfda9b6"
   },
   "outputs": [
    {
     "name": "stdout",
     "output_type": "stream",
     "text": [
      "Downloading data from https://storage.googleapis.com/tensorflow/tf-keras-datasets/mnist.npz\n",
      "11493376/11490434 [==============================] - 0s 0us/step\n"
     ]
    }
   ],
   "source": [
    "#%tensorflow_version 2.x\n",
    "#!apt-get install -y xxd\n",
    "\n",
    "#! pip uninstall -y tensorflow\n",
    "#! pip install -q tf-nightly\n",
    "#! pip install -q tensorflow-model-optimization\n",
    "\n",
    "import tensorflow as tf\n",
    "from tensorflow import keras\n",
    "\n",
    "(images_train, labels_train), (images_test, labels_test) = tf.keras.datasets.mnist.load_data()"
   ]
  },
  {
   "cell_type": "code",
   "execution_count": 3,
   "metadata": {
    "colab": {
     "base_uri": "https://localhost:8080/",
     "height": 139
    },
    "colab_type": "code",
    "id": "FPdE9ZVmwkoa",
    "outputId": "a1ba884a-f7c5-401d-efa5-1f687ca7c1e9"
   },
   "outputs": [
    {
     "name": "stdout",
     "output_type": "stream",
     "text": [
      "Collecting deap\n",
      "\u001b[?25l  Downloading https://files.pythonhosted.org/packages/0a/eb/2bd0a32e3ce757fb26264765abbaedd6d4d3640d90219a513aeabd08ee2b/deap-1.3.1-cp36-cp36m-manylinux2010_x86_64.whl (157kB)\n",
      "\r",
      "\u001b[K     |██                              | 10kB 14.7MB/s eta 0:00:01\r",
      "\u001b[K     |████▏                           | 20kB 2.8MB/s eta 0:00:01\r",
      "\u001b[K     |██████▎                         | 30kB 3.5MB/s eta 0:00:01\r",
      "\u001b[K     |████████▍                       | 40kB 3.8MB/s eta 0:00:01\r",
      "\u001b[K     |██████████▍                     | 51kB 3.3MB/s eta 0:00:01\r",
      "\u001b[K     |████████████▌                   | 61kB 3.6MB/s eta 0:00:01\r",
      "\u001b[K     |██████████████▋                 | 71kB 3.9MB/s eta 0:00:01\r",
      "\u001b[K     |████████████████▊               | 81kB 4.1MB/s eta 0:00:01\r",
      "\u001b[K     |██████████████████▊             | 92kB 4.3MB/s eta 0:00:01\r",
      "\u001b[K     |████████████████████▉           | 102kB 4.3MB/s eta 0:00:01\r",
      "\u001b[K     |███████████████████████         | 112kB 4.3MB/s eta 0:00:01\r",
      "\u001b[K     |█████████████████████████       | 122kB 4.3MB/s eta 0:00:01\r",
      "\u001b[K     |███████████████████████████▏    | 133kB 4.3MB/s eta 0:00:01\r",
      "\u001b[K     |█████████████████████████████▏  | 143kB 4.3MB/s eta 0:00:01\r",
      "\u001b[K     |███████████████████████████████▎| 153kB 4.3MB/s eta 0:00:01\r",
      "\u001b[K     |████████████████████████████████| 163kB 4.3MB/s \n",
      "\u001b[?25hRequirement already satisfied: numpy in /usr/local/lib/python3.6/dist-packages (from deap) (1.18.5)\n",
      "Installing collected packages: deap\n",
      "Successfully installed deap-1.3.1\n"
     ]
    }
   ],
   "source": [
    "!pip install deap"
   ]
  },
  {
   "cell_type": "code",
   "execution_count": 4,
   "metadata": {
    "colab": {},
    "colab_type": "code",
    "id": "j4HCMa4LwqK8"
   },
   "outputs": [],
   "source": [
    "import random\n",
    "\n",
    "from deap import base\n",
    "from deap import creator\n",
    "from deap import tools"
   ]
  },
  {
   "cell_type": "markdown",
   "metadata": {
    "colab_type": "text",
    "id": "XjororrjS-GV"
   },
   "source": [
    "**Implementation of NSGA-II Algorithm (Deap)**"
   ]
  },
  {
   "cell_type": "markdown",
   "metadata": {
    "colab_type": "text",
    "id": "fhmZT3ulxP0z"
   },
   "source": [
    "We need first to define our individual, strategy and fitness as datatypes.The first argument gives the datatype name, the second gives the base class, which is the base class for fitness measures provided by DEAP and the third argument sets the fitness weight to a negative value, which means that the evolutionary optimization will try to minimize this value."
   ]
  },
  {
   "cell_type": "code",
   "execution_count": 67,
   "metadata": {
    "colab": {
     "base_uri": "https://localhost:8080/",
     "height": 71
    },
    "colab_type": "code",
    "id": "LKbUX0PNw_OW",
    "outputId": "3b56b18c-58e2-4243-ebed-00b303644214"
   },
   "outputs": [
    {
     "name": "stderr",
     "output_type": "stream",
     "text": [
      "/usr/local/lib/python3.6/dist-packages/deap/creator.py:141: RuntimeWarning: A class named 'FitnessMulti' has already been created and it will be overwritten. Consider deleting previous creation of that class or rename it.\n",
      "  RuntimeWarning)\n"
     ]
    }
   ],
   "source": [
    "# creator is a class factory that can build new classes at run-time\n",
    "creator.create(\"FitnessMulti\", base.Fitness, weights=(-1.0, -1.0))"
   ]
  },
  {
   "cell_type": "markdown",
   "metadata": {
    "colab_type": "text",
    "id": "3ZffUHikxqXp"
   },
   "source": [
    "On running the above cell the datatype FitnessMin is added dynamically to the creator subpackage and we can access it directly as ‘creator.FitnessMin’."
   ]
  },
  {
   "cell_type": "markdown",
   "metadata": {
    "colab_type": "text",
    "id": "SInB-zs-x491"
   },
   "source": [
    "**Defining our Individual** :It defines the individual. Starting from the fourth argument, any arguments you provide, will be added as fields or attributes to the defined datatype.  "
   ]
  },
  {
   "cell_type": "code",
   "execution_count": 68,
   "metadata": {
    "colab": {
     "base_uri": "https://localhost:8080/",
     "height": 71
    },
    "colab_type": "code",
    "id": "zFwtEsrByeQr",
    "outputId": "318e5e7a-2cbf-49da-87f1-03380d2f57fc"
   },
   "outputs": [
    {
     "name": "stderr",
     "output_type": "stream",
     "text": [
      "/usr/local/lib/python3.6/dist-packages/deap/creator.py:141: RuntimeWarning: A class named 'Individual' has already been created and it will be overwritten. Consider deleting previous creation of that class or rename it.\n",
      "  RuntimeWarning)\n"
     ]
    }
   ],
   "source": [
    "creator.create(\"Individual\", dict, fitness=creator.FitnessMulti)"
   ]
  },
  {
   "cell_type": "markdown",
   "metadata": {
    "colab_type": "text",
    "id": "BUJWZp1DyJYE"
   },
   "source": [
    "For the individual, we define a necessary one required by DEAP, which is fitness. DEAP will look for this one when it wants to update the fitness value or read it, ex. fitness Minimum as one of the argument is passed into the function."
   ]
  },
  {
   "cell_type": "markdown",
   "metadata": {
    "colab_type": "text",
    "id": "_F9SLEhOyMON"
   },
   "source": [
    " The strategy attribute is needed by the ES algorithm, since it depends on a strategy vector for doing the mutations.Initialized to ‘None’, as we are populating it ourselves. "
   ]
  },
  {
   "cell_type": "code",
   "execution_count": 69,
   "metadata": {
    "colab": {},
    "colab_type": "code",
    "id": "Zfm6oOj7x3na"
   },
   "outputs": [],
   "source": [
    "# a toolbox stores functions and their arguments\n",
    "toolbox = base.Toolbox()\n"
   ]
  },
  {
   "cell_type": "code",
   "execution_count": 70,
   "metadata": {
    "colab": {
     "base_uri": "https://localhost:8080/",
     "height": 71
    },
    "colab_type": "code",
    "id": "BxSmenYv821-",
    "outputId": "6f7f2e38-cb3c-4071-b7a4-211964a52eeb"
   },
   "outputs": [
    {
     "name": "stdout",
     "output_type": "stream",
     "text": [
      "{'0': {'name': 'Conv2D', 'args': {'FILTERS': 28, 'KERNEL_SIZE': [3, 3], 'INPUT_SIZE': [28, 28, 1]}}, '1': {'name': 'MaxPool2D', 'args': {'POOL_SIZE': [2, 2]}}, '2': {'name': 'Flatten'}, '3': {'name': 'Dense', 'args': {'UNITS': 128, 'ACTIVATION': 'relu'}}, '4': {'name': 'Dropout', 'args': {'RATE': 0.2}}, '5': {'name': 'Dense', 'args': {'UNITS': 128, 'ACTIVATION': 'softmax'}}}\n",
      "{'0': {'name': 'Conv2D', 'args': {'FILTERS': 12, 'KERNEL_SIZE': [3, 3], 'STRIDES': [2, 2], 'INPUT_SIZE': [28, 28, 1]}}, '1': {'name': 'Reshape', 'args': {'TARGET_SHAPE': [13, 13, 12, 1]}}, '2': {'name': 'MaxPool3D', 'args': {'POOL_SIZE': [6, 3, 3]}}, '3': {'name': 'Flatten'}, '4': {'name': 'Dense', 'args': {'UNITS': 128, 'ACTIVATION': 'softmax'}}}\n"
     ]
    }
   ],
   "source": [
    "def initIndividual(icls, content):\n",
    "    return icls(content)\n",
    "\n",
    "def initPopulation(pcls, ind_init, filename):\n",
    "    with open(filename, \"r\") as pop_file:\n",
    "       contents = json.load(pop_file)\n",
    "       for c in contents: \n",
    "         return pcls(ind_init(c) for c in contents)\n",
    "\n",
    "toolbox.register(\"population_guess\", initPopulation, list, creator.Individual, \"test.json\")\n",
    "\n",
    "\n",
    "population = toolbox.population_guess()\n",
    "print(population[0])\n",
    "print(population[1])\n"
   ]
  },
  {
   "cell_type": "markdown",
   "metadata": {
    "colab_type": "text",
    "id": "4Y2hcinVg4Ws"
   },
   "source": [
    "Importing Tensorflow allows you to use its API to load the MNIST dataset. It should be noted that we need to use TF version <1.14 as this version includes the fully connected operation version 3 which is incompatible with the micro interpreters version 2."
   ]
  },
  {
   "cell_type": "code",
   "execution_count": 5,
   "metadata": {
    "colab": {
     "base_uri": "https://localhost:8080/",
     "height": 299
    },
    "colab_type": "code",
    "id": "MnCKuVlVjRhX",
    "outputId": "ee37f8e1-51dd-469e-ab7b-ea0fc61b7225"
   },
   "outputs": [
    {
     "name": "stdout",
     "output_type": "stream",
     "text": [
      "3\n"
     ]
    },
    {
     "data": {
      "text/plain": [
       "<matplotlib.image.AxesImage at 0x7f7d49765390>"
      ]
     },
     "execution_count": 5,
     "metadata": {
      "tags": []
     },
     "output_type": "execute_result"
    },
    {
     "data": {
      "image/png": "[encoded data removed]",
      "text/plain": [
       "<Figure size 432x288 with 1 Axes>"
      ]
     },
     "metadata": {
      "needs_background": "light",
      "tags": []
     },
     "output_type": "display_data"
    }
   ],
   "source": [
    "import matplotlib.pyplot as plt\n",
    "test_index = 12345\n",
    "print(labels_train[test_index])\n",
    "plt.imshow(images_train[test_index], cmap='Greys')"
   ]
  },
  {
   "cell_type": "markdown",
   "metadata": {
    "colab_type": "text",
    "id": "-76bBO2rlABd"
   },
   "source": [
    "The input of the neural network needs to know the input shape that it is going to be fed"
   ]
  },
  {
   "cell_type": "code",
   "execution_count": 6,
   "metadata": {
    "colab": {
     "base_uri": "https://localhost:8080/",
     "height": 34
    },
    "colab_type": "code",
    "id": "gWwrc29FlEgQ",
    "outputId": "e0cbd27a-89cb-4d43-d4ac-51ee33693012"
   },
   "outputs": [
    {
     "name": "stdout",
     "output_type": "stream",
     "text": [
      "60000 images, each with shape of 28 pixels x 28 pixels\n"
     ]
    }
   ],
   "source": [
    "input_shape = images_train.shape\n",
    "print(\"{} images, each with shape of {} pixels x {} pixels\".format(input_shape[0], input_shape[1], input_shape[2]))"
   ]
  },
  {
   "cell_type": "markdown",
   "metadata": {
    "colab_type": "text",
    "id": "zn-3cvuymAWT"
   },
   "source": [
    "The input shape for the model must be reshaped to 4D as the current shape does not show that each pixel is a 1D array where only the greyscale value (0-255) is stored. The input tensor's shape will be 3D as it will take a single-channel image. "
   ]
  },
  {
   "cell_type": "code",
   "execution_count": 7,
   "metadata": {
    "colab": {
     "base_uri": "https://localhost:8080/",
     "height": 34
    },
    "colab_type": "code",
    "id": "qOZnWmzUmTuI",
    "outputId": "ac98300d-63c5-4536-8f69-d2ec9d0d3fcc"
   },
   "outputs": [
    {
     "name": "stdout",
     "output_type": "stream",
     "text": [
      "Input shape: (60000, 28, 28)\n"
     ]
    }
   ],
   "source": [
    "images_train = images_train.reshape(images_train.shape[0], images_train.shape[1], images_train.shape[2], 1)\n",
    "images_test = images_test.reshape(images_test.shape[0], images_test.shape[1], images_test.shape[2], 1)\n",
    "input_tensor_shape = (images_test.shape[1], images_test.shape[2], 1)\n",
    "print(\"Input shape: {}\".format(input_shape))"
   ]
  },
  {
   "cell_type": "markdown",
   "metadata": {
    "colab_type": "text",
    "id": "mjPMYztkm0tg"
   },
   "source": [
    "The greyscale values stores in the images' pixels are 8 bit values and need to be normalized into floats between 0-1."
   ]
  },
  {
   "cell_type": "code",
   "execution_count": 8,
   "metadata": {
    "colab": {},
    "colab_type": "code",
    "id": "adD13BYinHlG"
   },
   "outputs": [],
   "source": [
    "images_train = images_train.astype('float32')\n",
    "images_test = images_test.astype('float32')\n",
    "images_train /= 255\n",
    "images_test /= 255"
   ]
  },
  {
   "cell_type": "code",
   "execution_count": null,
   "metadata": {
    "colab": {},
    "colab_type": "code",
    "id": "Y4dxhv2gR3fU"
   },
   "outputs": [],
   "source": [
    "#Counter initialization for iteration count\n",
    "count=0"
   ]
  },
  {
   "cell_type": "markdown",
   "metadata": {
    "colab_type": "text",
    "id": "SS7vq9qKUuPS"
   },
   "source": [
    "Create some classes for storing the layers"
   ]
  },
  {
   "cell_type": "code",
   "execution_count": 12,
   "metadata": {
    "colab": {},
    "colab_type": "code",
    "id": "9HjEwEo9Uq09"
   },
   "outputs": [],
   "source": [
    "from enum import Enum, auto\n",
    "import sys\n",
    "\n",
    "class Conv2DArgs(Enum):\n",
    "  'Args needed for creating Conv2DArgs layer, list not complete'\n",
    "  FILTERS = auto()\n",
    "  KERNEL_SIZE = auto()\n",
    "  STRIDES = auto()\n",
    "  INPUT_SIZE = auto()\n",
    "\n",
    "class MaxPool2DArgs(Enum):\n",
    "  'Args needed for creating MaxPool2D layer, list not complete'\n",
    "  POOL_SIZE = auto()\n",
    "  STRIDES = auto()\n",
    "\n",
    "class ReshapeArgs(Enum):\n",
    "  'Args needed for creating Reshape layer'\n",
    "  TARGET_SHAPE = auto()\n",
    "\n",
    "class DenseArgs(Enum):\n",
    "  'Args needed for creating Dense layer, list not complete'\n",
    "  UNITS = auto()\n",
    "  ACTIVATION = auto()\n",
    "\n",
    "class DropoutArgs(Enum):\n",
    "  'Args needed for creating Dropout layer, list not complete'\n",
    "  RATE = auto()\n",
    "\n",
    "class ModelLayer:\n",
    "  'Common layer properties'\n",
    "\n",
    "  def __init__(self, name):\n",
    "    self.name = name\n",
    "    self.args = {}\n",
    "\n",
    "class Conv2DLayer(ModelLayer):\n",
    "\n",
    "  def __init__(self, filters, kernel_size, strides, input_size):\n",
    "    super().__init__(\"Conv2D\")\n",
    "    self.args[Conv2DArgs.FILTERS.name] = filters\n",
    "    self.args[Conv2DArgs.KERNEL_SIZE.name] = kernel_size\n",
    "    self.args[Conv2DArgs.STRIDES.name] = strides\n",
    "    self.args[Conv2DArgs.INPUT_SIZE.name] = input_size \n",
    "\n",
    "  def getkeraslayer(self):\n",
    "    kernel_size=self.args.get(Conv2DArgs.KERNEL_SIZE.name)\n",
    "    strides=self.args.get(Conv2DArgs.STRIDES.name)\n",
    "    input_shape=self.args.get(Conv2DArgs.INPUT_SIZE.name)\n",
    "    return keras.layers.Conv2D(\n",
    "        self.args.get(Conv2DArgs.FILTERS.name), \n",
    "        kernel_size=self.args.get(Conv2DArgs.KERNEL_SIZE.name), \n",
    "        strides=self.args.get(Conv2DArgs.STRIDES.name), \n",
    "        input_shape=self.args.get(Conv2DArgs.INPUT_SIZE.name))\n",
    "\n",
    "class MaxPool2DLayer(ModelLayer):\n",
    "\n",
    "  def __init__(self, pool_size, strides):\n",
    "    super().__init__(\"MaxPool2D\")\n",
    "    self.args[MaxPool2DArgs.POOL_SIZE.name] = pool_size\n",
    "    self.args[MaxPool2DArgs.STRIDES.name] = strides \n",
    "\n",
    "  def getkeraslayer(self):\n",
    "    return keras.layers.MaxPool2D(\n",
    "        pool_size=self.args.get(MaxPool2DArgs.POOL_SIZE.name),\n",
    "        strides=self.args.get(MaxPool2DArgs.STRIDES.name)\n",
    "    )\n",
    "\n",
    "class MaxPool3DLayer(MaxPool2DLayer):\n",
    "\n",
    "  def __init__(self, pool_size, strides):\n",
    "    super(MaxPool2DLayer, self).__init__(\"MaxPool3D\")\n",
    "    super().__init__(pool_size, strides)\n",
    "    \n",
    "  def getkeraslayer(self):\n",
    "    return keras.layers.MaxPool3D(\n",
    "        pool_size=self.args.get(MaxPool2DArgs.POOL_SIZE.name),\n",
    "        strides=self.args.get(MaxPool2DArgs.STRIDES.name)\n",
    "    )\n",
    "  \n",
    "class ReshapeLayer(ModelLayer):\n",
    "\n",
    "  def __init__(self, target_shape):\n",
    "    super().__init__(\"Reshape\")\n",
    "    self.args[ReshapeArgs.TARGET_SHAPE.name] = target_shape\n",
    "\n",
    "  def getkeraslayer(self):\n",
    "    target_shape = self.args.get(ReshapeArgs.TARGET_SHAPE.name)\n",
    "    return keras.layers.Reshape(target_shape)\n",
    "\n",
    "class DenseLayer(ModelLayer):\n",
    "\n",
    "  def __init__(self, units, activation):\n",
    "    super().__init__(\"Dense\")\n",
    "    self.args[DenseArgs.UNITS.name] = units\n",
    "    self.args[DenseArgs.ACTIVATION.name] = activation\n",
    "\n",
    "  def getkeraslayer(self):\n",
    "    units = self.args.get(DenseArgs.UNITS.name)\n",
    "    activation = self.args.get(DenseArgs.ACTIVATION.name)\n",
    "    return keras.layers.Dense(units, activation=activation)\n",
    "\n",
    "class FlattenLayer(ModelLayer):\n",
    "\n",
    "  def __init__(self):\n",
    "    super().__init__(\"Flatten\")\n",
    "\n",
    "  def getkeraslayer(self):\n",
    "    return keras.layers.Flatten()\n",
    "\n",
    "class Dropout(ModelLayer):\n",
    "\n",
    "  def __init__(self, rate):\n",
    "    super().__init__(\"Dropout\")\n",
    "    self.args[DropoutArgs.RATE.name] = rate\n",
    "  \n",
    "  def getkeraslayer(self):\n",
    "    rate = self.args.get(DropoutArgs.RATE.name)\n",
    "    return keras.layers.Dropout(rate)\n",
    "  \n",
    "class Model:\n",
    "\n",
    "  def __init__(self, json, optimizer='adam', \n",
    "               loss='sparse_categorical_crossentropy', metrics=['accuracy']):\n",
    "    self.optimizer = optimizer\n",
    "    self.loss = loss\n",
    "    self.metrics = metrics\n",
    "    self.layers = []\n",
    "\n",
    "    for x in range(len(json.keys())):\n",
    "      layer = json.get(str(x))\n",
    "      name = layer.get('name')\n",
    "      args = layer.get('args')\n",
    "      if name == \"Conv2D\":\n",
    "        filters = args.get(Conv2DArgs.FILTERS.name)\n",
    "        kernel = args.get(Conv2DArgs.KERNEL_SIZE.name)\n",
    "        kernel_size = tuple(kernel)\n",
    "        strides = args.get(Conv2DArgs.STRIDES.name, (1,1))\n",
    "        input = args.get(Conv2DArgs.INPUT_SIZE.name)\n",
    "        input_size = tuple(input)\n",
    "        self.layers.append(Conv2DLayer(filters, kernel_size, strides, input_size))\n",
    "        print(\"Created {} layer with {} filters, {} kernel size, {} stride size and {} input size\".format(\n",
    "          name, filters, kernel_size, strides, input_size\n",
    "        ))\n",
    "      elif name == \"MaxPool2D\" or name == \"MaxPool3D\":\n",
    "        pool_size = args.get(MaxPool2DArgs.POOL_SIZE.name)\n",
    "        strides = args.get(MaxPool2DArgs.STRIDES.name, None)\n",
    "        if name == \"MaxPool2D\":\n",
    "          self.layers.append(MaxPool2DLayer(pool_size, strides))\n",
    "          print(\"Created {} layer with {} pool size and {} stride size\".format(\n",
    "              name, pool_size, strides\n",
    "          ))\n",
    "        else:\n",
    "          self.layers.append(MaxPool3DLayer(pool_size, strides))\n",
    "          print(\"Created {} layer with {} pool size and {} stride size\".format(\n",
    "              name, pool_size, strides\n",
    "          ))\n",
    "      elif name == \"Reshape\":\n",
    "        target_shape = args.get(ReshapeArgs.TARGET_SHAPE.name)\n",
    "        self.layers.append(ReshapeLayer(target_shape))\n",
    "        print(\" Created {} layer with {} target shape\".format(name, target_shape))\n",
    "      elif name == \"Dense\":\n",
    "        units = args.get(DenseArgs.UNITS.name)\n",
    "        activation = getattr(tf.nn, args.get(DenseArgs.ACTIVATION.name))\n",
    "        self.layers.append(DenseLayer(units, activation))\n",
    "        print(\"Created {} layer with {} units and {} activation\".format(name, units, activation))\n",
    "      elif name == \"Flatten\":\n",
    "        self.layers.append(FlattenLayer())\n",
    "        print(\"Create {} layer\".format(name))\n",
    "      elif name == \"Dropout\":\n",
    "        rate = args.get(DropoutArgs.RATE.name)\n",
    "        self.layers.append(Dropout(rate))\n",
    "        print(\"Created {} layers with {} rate\".format(name, rate))\n",
    "\n",
    "  def gettfmodel(self):\n",
    "    model = keras.Sequential()\n",
    "    for layer in self.layers:\n",
    "      model.add(layer.getkeraslayer())\n",
    "\n",
    "    model.compile(optimizer=self.optimizer, loss=self.loss, metrics=self.metrics)\n",
    "    return model\n"
   ]
  },
  {
   "cell_type": "markdown",
   "metadata": {
    "colab_type": "text",
    "id": "02dHk-beR3fi"
   },
   "source": [
    "Random Number Generator for generating random combination of input parameters "
   ]
  },
  {
   "cell_type": "code",
   "execution_count": 13,
   "metadata": {
    "colab": {},
    "colab_type": "code",
    "id": "vEMJuERDR3fl"
   },
   "outputs": [],
   "source": [
    "#Random Number generator \n",
    "import random\n",
    "\n",
    "# I figure we can just call the layers '0', '1',...etc and this \"name\" is then the layer's index in the model\n",
    "Model_Configuration1= {\n",
    "        \n",
    "    0: {\n",
    "      'name': 'Conv2D',\n",
    "      'args':  {\n",
    "          Conv2DArgs.FILTERS.name: 28,\n",
    "          Conv2DArgs.KERNEL_SIZE.name: [3,3],\n",
    "          Conv2DArgs.INPUT_SIZE.name: [28,28,1]\n",
    "          }\n",
    "    }, \n",
    "    1: {\n",
    "      'name': 'MaxPool2D',\n",
    "      'args':  {\n",
    "          MaxPool2DArgs.POOL_SIZE.name: [2, 2],\n",
    "        }\n",
    "    },\n",
    "    2: {\n",
    "      'name': 'Flatten'\n",
    "    },\n",
    "    3: {\n",
    "      'name': 'Dense',\n",
    "      'args': {\n",
    "          DenseArgs.UNITS.name: 128,\n",
    "          DenseArgs.ACTIVATION.name: \"relu\"\n",
    "        }   \n",
    "    },\n",
    "    4: {\n",
    "        'name': 'Dropout',\n",
    "        'args':{\n",
    "            DropoutArgs.RATE.name: 0.2\n",
    "        }\n",
    "    },\n",
    "    5: {\n",
    "        'name' : 'Dense',\n",
    "        'args': {\n",
    "        DenseArgs.UNITS.name: 128,\n",
    "        DenseArgs.ACTIVATION.name: \"softmax\"\n",
    "      }   \n",
    "    } \n",
    "}\n",
    "\n",
    "Model_Configuration4 = {\n",
    "    0: {\n",
    "        'name': 'Conv2D',\n",
    "        'args': {\n",
    "          Conv2DArgs.FILTERS.name: 12,\n",
    "          Conv2DArgs.KERNEL_SIZE.name: [3,3],\n",
    "          Conv2DArgs.STRIDES.name: [2,2],\n",
    "          Conv2DArgs.INPUT_SIZE.name: [28,28,1]\n",
    "          }\n",
    "    },\n",
    "    1: {\n",
    "        'name': 'Reshape',\n",
    "        'args': {\n",
    "            ReshapeArgs.TARGET_SHAPE.name: [13,13,12,1]\n",
    "        }\n",
    "    },\n",
    "    2: {\n",
    "        'name': \"MaxPool3D\",\n",
    "        'args':  {\n",
    "          MaxPool2DArgs.POOL_SIZE.name: [6, 3, 3],\n",
    "        }\n",
    "    },\n",
    "    3: {\n",
    "        'name': 'Flatten'\n",
    "    },\n",
    "    4: {\n",
    "        'name' : 'Dense',\n",
    "        'args': {\n",
    "        DenseArgs.UNITS.name: 128,\n",
    "        DenseArgs.ACTIVATION.name: \"softmax\"\n",
    "      } \n",
    "    }\n",
    "}\n",
    "\n"
   ]
  },
  {
   "cell_type": "markdown",
   "metadata": {
    "colab_type": "text",
    "id": "vCLFswlQR3f2"
   },
   "source": []
  },
  {
   "cell_type": "markdown",
   "metadata": {
    "colab_type": "text",
    "id": "WvLw_LooR3gQ"
   },
   "source": [
    "Input configuration JSON file is used to store list of different combination of Input parameters."
   ]
  },
  {
   "cell_type": "code",
   "execution_count": 14,
   "metadata": {
    "colab": {},
    "colab_type": "code",
    "id": "zN0MB-jbR3gU"
   },
   "outputs": [],
   "source": [
    "#Appending procedure JSON\n",
    "import os\n",
    "import random\n",
    "\n",
    "def write_json(json_model, filename):\n",
    "  with open(\"{}.json\".format(filename), mode='w+') as f:\n",
    "      f.write(json.dumps(json_model, indent=2))\n",
    "\n",
    "def load_json(filename):\n",
    "  if os.path.isfile(\"{}.json\".format(filename)):\n",
    "    with open(\"{}.json\".format(filename)) as f:\n",
    "        return json.load(f)\n"
   ]
  },
  {
   "cell_type": "markdown",
   "metadata": {
    "colab_type": "text",
    "id": "Qm95GeulR3gc"
   },
   "source": [
    "Loading the parameters from JSON file as input to our Model."
   ]
  },
  {
   "cell_type": "code",
   "execution_count": 15,
   "metadata": {
    "colab": {
     "base_uri": "https://localhost:8080/",
     "height": 1000
    },
    "colab_type": "code",
    "id": "DL6LZ1XfR3gf",
    "outputId": "65a49bc7-e074-4517-8dd2-0a37cf2de0c2"
   },
   "outputs": [
    {
     "name": "stdout",
     "output_type": "stream",
     "text": [
      "Created Conv2D layer with 28 filters, (3, 3) kernel size, (1, 1) stride size and (28, 28, 1) input size\n",
      "Created MaxPool2D layer with [2, 2] pool size and None stride size\n",
      "Create Flatten layer\n",
      "Created Dense layer with 128 units and <function relu at 0x7f7d57119e18> activation\n",
      "Created Dropout layers with 0.2 rate\n",
      "Created Dense layer with 128 units and <function softmax_v2 at 0x7f7d55ad6c80> activation\n",
      "Created Conv2D layer with 12 filters, (3, 3) kernel size, [2, 2] stride size and (28, 28, 1) input size\n",
      " Created Reshape layer with [13, 13, 12, 1] target shape\n",
      "Created MaxPool3D layer with [6, 3, 3] pool size and None stride size\n",
      "Create Flatten layer\n",
      "Created Dense layer with 128 units and <function softmax_v2 at 0x7f7d55ad6c80> activation\n",
      "Epoch 1/10\n",
      "600/600 [==============================] - 22s 37ms/step - loss: 0.3512 - accuracy: 0.8999\n",
      "Epoch 2/10\n",
      "600/600 [==============================] - 22s 37ms/step - loss: 0.1235 - accuracy: 0.9634\n",
      "Epoch 3/10\n",
      "600/600 [==============================] - 22s 37ms/step - loss: 0.0817 - accuracy: 0.9753\n",
      "Epoch 4/10\n",
      "600/600 [==============================] - 22s 37ms/step - loss: 0.0605 - accuracy: 0.9816\n",
      "Epoch 5/10\n",
      "600/600 [==============================] - 22s 36ms/step - loss: 0.0469 - accuracy: 0.9857\n",
      "Epoch 6/10\n",
      "600/600 [==============================] - 22s 37ms/step - loss: 0.0383 - accuracy: 0.9877\n",
      "Epoch 7/10\n",
      "600/600 [==============================] - 22s 37ms/step - loss: 0.0321 - accuracy: 0.9894\n",
      "Epoch 8/10\n",
      "600/600 [==============================] - 23s 39ms/step - loss: 0.0258 - accuracy: 0.9916\n",
      "Epoch 9/10\n",
      "600/600 [==============================] - 23s 38ms/step - loss: 0.0242 - accuracy: 0.9919\n",
      "Epoch 10/10\n",
      "600/600 [==============================] - 22s 37ms/step - loss: 0.0195 - accuracy: 0.9938\n",
      "Model: \"sequential\"\n",
      "_________________________________________________________________\n",
      "Layer (type)                 Output Shape              Param #   \n",
      "=================================================================\n",
      "conv2d (Conv2D)              (None, 26, 26, 28)        280       \n",
      "_________________________________________________________________\n",
      "max_pooling2d (MaxPooling2D) (None, 13, 13, 28)        0         \n",
      "_________________________________________________________________\n",
      "flatten (Flatten)            (None, 4732)              0         \n",
      "_________________________________________________________________\n",
      "dense (Dense)                (None, 128)               605824    \n",
      "_________________________________________________________________\n",
      "dropout (Dropout)            (None, 128)               0         \n",
      "_________________________________________________________________\n",
      "dense_1 (Dense)              (None, 128)               16512     \n",
      "=================================================================\n",
      "Total params: 622,616\n",
      "Trainable params: 622,616\n",
      "Non-trainable params: 0\n",
      "_________________________________________________________________\n",
      "Epoch 1/10\n",
      "600/600 [==============================] - 28s 46ms/step - loss: 2.1002 - accuracy: 0.3643\n",
      "Epoch 2/10\n",
      "600/600 [==============================] - 28s 47ms/step - loss: 1.4844 - accuracy: 0.5060\n",
      "Epoch 3/10\n",
      "600/600 [==============================] - 29s 48ms/step - loss: 1.3710 - accuracy: 0.5404\n",
      "Epoch 4/10\n",
      "600/600 [==============================] - 27s 46ms/step - loss: 1.2422 - accuracy: 0.5906\n",
      "Epoch 5/10\n",
      "600/600 [==============================] - 27s 45ms/step - loss: 1.0622 - accuracy: 0.6578\n",
      "Epoch 6/10\n",
      "600/600 [==============================] - 31s 52ms/step - loss: 0.9168 - accuracy: 0.7041\n",
      "Epoch 7/10\n",
      "600/600 [==============================] - 30s 51ms/step - loss: 0.8280 - accuracy: 0.7296\n",
      "Epoch 8/10\n",
      "600/600 [==============================] - 28s 46ms/step - loss: 0.7713 - accuracy: 0.7454\n",
      "Epoch 9/10\n",
      "600/600 [==============================] - 29s 49ms/step - loss: 0.7274 - accuracy: 0.7593\n",
      "Epoch 10/10\n",
      "600/600 [==============================] - 28s 47ms/step - loss: 0.6855 - accuracy: 0.7746\n",
      "Model: \"sequential_1\"\n",
      "_________________________________________________________________\n",
      "Layer (type)                 Output Shape              Param #   \n",
      "=================================================================\n",
      "conv2d_1 (Conv2D)            (None, 13, 13, 12)        120       \n",
      "_________________________________________________________________\n",
      "reshape (Reshape)            (None, 13, 13, 12, 1)     0         \n",
      "_________________________________________________________________\n",
      "max_pooling3d (MaxPooling3D) (None, 2, 4, 4, 1)        0         \n",
      "_________________________________________________________________\n",
      "flatten_1 (Flatten)          (None, 32)                0         \n",
      "_________________________________________________________________\n",
      "dense_2 (Dense)              (None, 128)               4224      \n",
      "=================================================================\n",
      "Total params: 4,344\n",
      "Trainable params: 4,344\n",
      "Non-trainable params: 0\n",
      "_________________________________________________________________\n"
     ]
    }
   ],
   "source": [
    "# # get model configuration params from our json file which is being appended\n",
    "import json\n",
    "\n",
    "write_json(Model_Configuration1, \"test\")\n",
    "\n",
    "test_read = load_json(\"test\")\n",
    "\n",
    "test_model = Model(test_read)\n",
    "\n",
    "tf_model = test_model.gettfmodel()\n",
    "\n",
    "write_json(Model_Configuration4, \"test4\")\n",
    "\n",
    "test_read4 = load_json(\"test4\")\n",
    "\n",
    "test_model4 = Model(test_read4)\n",
    "\n",
    "tf_model4 = test_model4.gettfmodel()\n",
    "\n",
    "batch_size = 100\n",
    "epochs = 10\n",
    "\n",
    "history = tf_model.fit(x=images_train,y=labels_train, epochs=epochs, batch_size=batch_size)\n",
    "tf_model.summary()\n",
    "history4 = tf_model4.fit(x=images_train,y=labels_train, epochs=epochs, batch_size=batch_size)\n",
    "tf_model4.summary()\n"
   ]
  },
  {
   "cell_type": "code",
   "execution_count": null,
   "metadata": {
    "colab": {},
    "colab_type": "code",
    "id": "jdxlMTZvbaU8"
   },
   "outputs": [],
   "source": [
    "# get model configuration params from our json file\n",
    "# import json \n",
    "# with open('Model_Configuration.json') as example_data:\n",
    "#     data = json.load(example_data)\n",
    "# print(data['layer1']['layer1_name'])\n",
    "# int(data['layer1']['param1'])\n"
   ]
  },
  {
   "cell_type": "markdown",
   "metadata": {
    "colab_type": "text",
    "id": "A3oXnIHunXvs"
   },
   "source": [
    "Now the convolutional NN that we will use to classify the input images taken from the touch screen will have the following layer structure\n",
    "\n",
    "1. Conv2D\n",
    "2. MaxPooling2D\n",
    "3. Flatten\n",
    "4. Dense\n",
    "5. Dropout\n",
    "11. Dense\n",
    "\n"
   ]
  },
  {
   "cell_type": "code",
   "execution_count": null,
   "metadata": {
    "colab": {},
    "colab_type": "code",
    "id": "k-2aWbOirRCy"
   },
   "outputs": [],
   "source": [
    "#layer types and shapes changed in each model\n",
    "\n",
    "#import tensorflow_model_optimization as tfmot\n",
    "\n",
    "#quantize_model = tfmot.quantization.keras.quantize_model\n",
    "# model = keras.Sequential()\n",
    "\n",
    "# if (data[count]['layer1']['layer1_name']=='Conv2D'):\n",
    "#     model.add(keras.layers.Conv2D(int(data[count]['layer1']['param1']), kernel_size=(int(data[count]['layer1']['param2']),int(data[count]['layer1']['param3'])), input_shape=input_tensor_shape))\n",
    "# if (data[count]['layer2']['layer2_name']=='Maxpool'):\n",
    "#     model.add(keras.layers.MaxPooling2D(pool_size=(int(data[count]['layer2']['param1']),int(data[count]['layer2']['param2']))))         \n",
    "# model.add(keras.layers.Flatten()) # Flattening the 2D arrays for fully connected layers\n",
    "# model.add(keras.layers.Dense(128, activation=tf.nn.relu))\n",
    "# model.add(keras.layers.Dropout(0.2))\n",
    "# model.add(keras.layers.Dense(10,activation=tf.nn.softmax))\n",
    "\n",
    "\n",
    "#quantized_model5 = quantize_model(model5)"
   ]
  },
  {
   "cell_type": "markdown",
   "metadata": {
    "colab_type": "text",
    "id": "N5CLXe63rRPf"
   },
   "source": [
    "The Conv2D layer extracts features from the input image using filters that slide across the input image. In this case we will use 28 different filters to extract a large number of unique features that will then be used to classify each image in the later layers. Thus the output of this layer will have the shape (28, 28, 1, 28)\n",
    "\n",
    "MaxPooling2D is used to reduce the output size of the convolutional layer by reducing each 2 x 2 unique chunk of the output down in to a singular value, this reducing the output's size by a factor of 4. This will reduce our (28, 28, 1, 28) tensor down to a (7, 7, 1, 28) tensor.\n",
    "\n",
    "The Flatten layer then takes this 2D array (our image) and shapes it into a single dimension (1372).\n",
    "\n",
    "The following Dense layer reduces the input 1372 values down into 128 classes, taking the first steps in classifying the image into on of the 10 output classes (0-9). This is done using the relu activation function.\n",
    "\n",
    "The Dropout layer sets 20% of the tensor's values to 0 so as to reduce overfitting.\n",
    "\n",
    "Finally the last Dense layer reduces the output value down to the 10 classes, each representing a digit between 0 and 9. This is done using the softmax activation function which makes the outputs a set of probabilities summing to 1.\n"
   ]
  },
  {
   "cell_type": "markdown",
   "metadata": {
    "colab_type": "text",
    "id": "NrG75fkHxdkN"
   },
   "source": [
    "Train the model"
   ]
  },
  {
   "cell_type": "code",
   "execution_count": null,
   "metadata": {
    "colab": {},
    "colab_type": "code",
    "id": "RXWfgL0LxS3o"
   },
   "outputs": [],
   "source": [
    "# model.compile(optimizer='adam', loss='sparse_categorical_crossentropy', metrics=['accuracy'])\n",
    "\n",
    "# #quantized_model5.compile(optimizer='adam',\n",
    "#               #loss='sparse_categorical_crossentropy',\n",
    "#               #metrics=['accuracy'])\n",
    "\n",
    "# batch_size = 100\n",
    "# epochs = 10\n",
    "\n",
    "# print(\"Model 1\")\n",
    "# history = model.fit(x=images_train,y=labels_train, epochs=epochs, batch_size=batch_size)\n",
    "# model.summary()\n",
    "\n",
    "\n"
   ]
  },
  {
   "cell_type": "markdown",
   "metadata": {
    "colab_type": "text",
    "id": "fNtcEcKuxgYb"
   },
   "source": [
    "Now we can evaluate our trained model using the test data"
   ]
  },
  {
   "cell_type": "code",
   "execution_count": 28,
   "metadata": {
    "colab": {
     "base_uri": "https://localhost:8080/",
     "height": 85
    },
    "colab_type": "code",
    "id": "D4zrA9hNxkAC",
    "outputId": "7596bc67-d728-42bc-f026-7c83033b78cb"
   },
   "outputs": [
    {
     "name": "stdout",
     "output_type": "stream",
     "text": [
      "313/313 [==============================] - 2s 7ms/step - loss: 0.0481 - accuracy: 0.9863\n",
      "Model1 has an accuracy of 98.63%\n",
      "98.6299991607666\n",
      "Total params: 622,616\n"
     ]
    }
   ],
   "source": [
    "res = tf_model.evaluate(images_test, labels_test)\n",
    "print(\"Model1 has an accuracy of {0:.2f}%\".format(res[1] * 100))\n",
    "\n",
    "# Adding the results to JSON file\n",
    "stringlist = []\n",
    "li =[]\n",
    "tf_model.summary(print_fn=lambda x: stringlist.append(x))\n",
    "for st in stringlist:\n",
    "    li.append(st)\n",
    "    \n",
    "result={\n",
    "    'Iteration': 0,\n",
    "    'Accuracy is:' : str(res[1] * 100),\n",
    "     '':str(li[16])\n",
    "    \n",
    "}\n",
    "# with open(\"Objectives.json\", \"w\") as jsonFile:\n",
    "#     json.dump(result, jsonFile)\n",
    "\n",
    "print(str(res[1] * 100))\n",
    "print(str(li[16]))"
   ]
  },
  {
   "cell_type": "markdown",
   "metadata": {
    "colab_type": "text",
    "id": "1NrlEuWbR3hU"
   },
   "source": [
    "Writing our final results back to our JSON file"
   ]
  },
  {
   "cell_type": "code",
   "execution_count": 29,
   "metadata": {
    "colab": {},
    "colab_type": "code",
    "id": "nBycYjsqR3hX"
   },
   "outputs": [],
   "source": [
    "#Appending procedure JSON\n",
    "import os\n",
    "a = []\n",
    "write_json(result, \"test_result\")\n",
    "# if not os.path.isfile(\"/Users/priyadalal/Desktop/result.json\"):\n",
    "#     a.append(result)\n",
    "#     with open(\"/Users/priyadalal/Desktop/result.json\", mode='w') as f:\n",
    "#         f.write(json.dumps(a, indent=2))\n",
    "# else:\n",
    "#     with open(\"/Users/priyadalal/Desktop/result.json\") as feedsjson:\n",
    "#         feeds = json.load(feedsjson)\n",
    "\n",
    "#     feeds.append(result)\n",
    "#     with open(\"/Users/priyadalal/Desktop/result.json\", mode='w') as f:\n",
    "#         f.write(json.dumps(feeds, indent=2))"
   ]
  },
  {
   "cell_type": "code",
   "execution_count": 24,
   "metadata": {
    "colab": {
     "base_uri": "https://localhost:8080/",
     "height": 181
    },
    "colab_type": "code",
    "id": "eEjsGW18R3he",
    "outputId": "73023c63-5860-42e4-c353-56ce75e11889"
   },
   "outputs": [
    {
     "ename": "NameError",
     "evalue": "ignored",
     "output_type": "error",
     "traceback": [
      "\u001b[0;31m---------------------------------------------------------------------------\u001b[0m",
      "\u001b[0;31mNameError\u001b[0m                                 Traceback (most recent call last)",
      "\u001b[0;32m<ipython-input-24-dfe8c397ddb1>\u001b[0m in \u001b[0;36m<module>\u001b[0;34m()\u001b[0m\n\u001b[1;32m      1\u001b[0m \u001b[0;31m#Updating our counter on completing the Iteration\u001b[0m\u001b[0;34m\u001b[0m\u001b[0;34m\u001b[0m\u001b[0;34m\u001b[0m\u001b[0m\n\u001b[0;32m----> 2\u001b[0;31m \u001b[0mcount\u001b[0m\u001b[0;34m=\u001b[0m\u001b[0mcount\u001b[0m\u001b[0;34m+\u001b[0m\u001b[0;36m1\u001b[0m\u001b[0;34m\u001b[0m\u001b[0;34m\u001b[0m\u001b[0m\n\u001b[0m",
      "\u001b[0;31mNameError\u001b[0m: name 'count' is not defined"
     ]
    }
   ],
   "source": [
    "#Updating our counter on completing the Iteration \n",
    "#count=count+1"
   ]
  },
  {
   "cell_type": "code",
   "execution_count": null,
   "metadata": {
    "colab": {},
    "colab_type": "code",
    "id": "kIW0zUx2Rzzh"
   },
   "outputs": [],
   "source": []
  }
 ],
 "metadata": {
  "colab": {
   "collapsed_sections": [],
   "include_colab_link": true,
   "name": "MNIST_NAS.ipynb",
   "provenance": []
  },
  "kernelspec": {
   "display_name": "Python 3",
   "language": "python",
   "name": "python3"
  },
  "language_info": {
   "codemirror_mode": {
    "name": "ipython",
    "version": 3
   },
   "file_extension": ".py",
   "mimetype": "text/x-python",
   "name": "python",
   "nbconvert_exporter": "python",
   "pygments_lexer": "ipython3",
   "version": "3.8.3"
  }
 },
 "nbformat": 4,
 "nbformat_minor": 1
}
